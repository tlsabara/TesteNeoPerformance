{
 "cells": [
  {
   "cell_type": "code",
   "execution_count": 1,
   "id": "initial_id",
   "metadata": {},
   "outputs": [],
   "source": [
    "import pandas as pd\n",
    "from complex_datetime import clear_month, clear_year, brute_parse_date"
   ]
  },
  {
   "cell_type": "code",
   "execution_count": 2,
   "id": "e4a1a3fa10a0f8f8",
   "metadata": {
    "collapsed": false,
    "jupyter": {
     "outputs_hidden": false
    }
   },
   "outputs": [],
   "source": [
    "data_file = \"ObjetosTeca.xlsx\""
   ]
  },
  {
   "cell_type": "code",
   "execution_count": 3,
   "id": "9eba77ab06e64c5",
   "metadata": {
    "collapsed": false,
    "jupyter": {
     "outputs_hidden": false
    }
   },
   "outputs": [],
   "source": [
    "df_vendas = pd.read_excel(data_file, sheet_name=\"Base\")\n",
    "df_produtos = pd.read_excel(data_file, sheet_name=\"SKUS\")"
   ]
  },
  {
   "cell_type": "markdown",
   "id": "2af384b3ef8c07e",
   "metadata": {
    "collapsed": false,
    "jupyter": {
     "outputs_hidden": false
    }
   },
   "source": [
    "# Explorando os dataframes\n",
    "\n",
    "quero saber o que tem nos dados"
   ]
  },
  {
   "cell_type": "code",
   "execution_count": 4,
   "id": "d860adb95c347abc",
   "metadata": {
    "collapsed": false,
    "jupyter": {
     "outputs_hidden": false
    }
   },
   "outputs": [
    {
     "data": {
      "text/html": [
       "<div>\n",
       "<style scoped>\n",
       "    .dataframe tbody tr th:only-of-type {\n",
       "        vertical-align: middle;\n",
       "    }\n",
       "\n",
       "    .dataframe tbody tr th {\n",
       "        vertical-align: top;\n",
       "    }\n",
       "\n",
       "    .dataframe thead th {\n",
       "        text-align: right;\n",
       "    }\n",
       "</style>\n",
       "<table border=\"1\" class=\"dataframe\">\n",
       "  <thead>\n",
       "    <tr style=\"text-align: right;\">\n",
       "      <th></th>\n",
       "      <th>SKU</th>\n",
       "      <th>Nome</th>\n",
       "    </tr>\n",
       "  </thead>\n",
       "  <tbody>\n",
       "    <tr>\n",
       "      <th>0</th>\n",
       "      <td>1001</td>\n",
       "      <td>AGULHA</td>\n",
       "    </tr>\n",
       "    <tr>\n",
       "      <th>1</th>\n",
       "      <td>1002</td>\n",
       "      <td>APITO</td>\n",
       "    </tr>\n",
       "    <tr>\n",
       "      <th>2</th>\n",
       "      <td>1003</td>\n",
       "      <td>BICICLETA</td>\n",
       "    </tr>\n",
       "    <tr>\n",
       "      <th>3</th>\n",
       "      <td>1004</td>\n",
       "      <td>BOLSA</td>\n",
       "    </tr>\n",
       "    <tr>\n",
       "      <th>4</th>\n",
       "      <td>1005</td>\n",
       "      <td>BOTA</td>\n",
       "    </tr>\n",
       "  </tbody>\n",
       "</table>\n",
       "</div>"
      ],
      "text/plain": [
       "    SKU       Nome\n",
       "0  1001     AGULHA\n",
       "1  1002      APITO\n",
       "2  1003  BICICLETA\n",
       "3  1004      BOLSA\n",
       "4  1005       BOTA"
      ]
     },
     "execution_count": 4,
     "metadata": {},
     "output_type": "execute_result"
    }
   ],
   "source": [
    "df_produtos.head()"
   ]
  },
  {
   "cell_type": "code",
   "execution_count": 5,
   "id": "ab1c9d5001462d98",
   "metadata": {
    "collapsed": false,
    "jupyter": {
     "outputs_hidden": false
    }
   },
   "outputs": [
    {
     "name": "stdout",
     "output_type": "stream",
     "text": [
      "<class 'pandas.core.frame.DataFrame'>\n",
      "RangeIndex: 30 entries, 0 to 29\n",
      "Data columns (total 2 columns):\n",
      " #   Column  Non-Null Count  Dtype \n",
      "---  ------  --------------  ----- \n",
      " 0   SKU     30 non-null     int64 \n",
      " 1   Nome    30 non-null     object\n",
      "dtypes: int64(1), object(1)\n",
      "memory usage: 612.0+ bytes\n"
     ]
    }
   ],
   "source": [
    "df_produtos.info()"
   ]
  },
  {
   "cell_type": "code",
   "execution_count": 6,
   "id": "7dacd857e03eeed2",
   "metadata": {
    "collapsed": false,
    "jupyter": {
     "outputs_hidden": false
    }
   },
   "outputs": [
    {
     "data": {
      "text/plain": [
       "SKU     0.0\n",
       "Nome    0.0\n",
       "dtype: float64"
      ]
     },
     "execution_count": 6,
     "metadata": {},
     "output_type": "execute_result"
    }
   ],
   "source": [
    "df_produtos.isna().mean()"
   ]
  },
  {
   "cell_type": "code",
   "execution_count": 7,
   "id": "6fd63473e3d841bc",
   "metadata": {
    "collapsed": false,
    "jupyter": {
     "outputs_hidden": false
    }
   },
   "outputs": [
    {
     "data": {
      "text/plain": [
       "SKU     0.0\n",
       "Nome    0.0\n",
       "dtype: float64"
      ]
     },
     "execution_count": 7,
     "metadata": {},
     "output_type": "execute_result"
    }
   ],
   "source": [
    "df_produtos.isna().mean()"
   ]
  },
  {
   "cell_type": "code",
   "execution_count": 8,
   "id": "a829414139277342",
   "metadata": {
    "collapsed": false,
    "jupyter": {
     "outputs_hidden": false
    }
   },
   "outputs": [
    {
     "data": {
      "text/plain": [
       "0.0"
      ]
     },
     "execution_count": 8,
     "metadata": {},
     "output_type": "execute_result"
    }
   ],
   "source": [
    "df_produtos.SKU.duplicated().mean()"
   ]
  },
  {
   "cell_type": "code",
   "execution_count": 9,
   "id": "a4f9ff76a9e590eb",
   "metadata": {
    "collapsed": false,
    "jupyter": {
     "outputs_hidden": false
    }
   },
   "outputs": [
    {
     "data": {
      "text/html": [
       "<div>\n",
       "<style scoped>\n",
       "    .dataframe tbody tr th:only-of-type {\n",
       "        vertical-align: middle;\n",
       "    }\n",
       "\n",
       "    .dataframe tbody tr th {\n",
       "        vertical-align: top;\n",
       "    }\n",
       "\n",
       "    .dataframe thead th {\n",
       "        text-align: right;\n",
       "    }\n",
       "</style>\n",
       "<table border=\"1\" class=\"dataframe\">\n",
       "  <thead>\n",
       "    <tr style=\"text-align: right;\">\n",
       "      <th></th>\n",
       "      <th>Data</th>\n",
       "      <th>Mês</th>\n",
       "      <th>Ano</th>\n",
       "      <th>Objeto</th>\n",
       "      <th>Investido</th>\n",
       "      <th>Cliques</th>\n",
       "      <th>Receita</th>\n",
       "      <th>Conversões</th>\n",
       "      <th>ROAS</th>\n",
       "      <th>Ticket médio</th>\n",
       "    </tr>\n",
       "  </thead>\n",
       "  <tbody>\n",
       "    <tr>\n",
       "      <th>0</th>\n",
       "      <td>12/31/2022</td>\n",
       "      <td>Dezembro</td>\n",
       "      <td>22</td>\n",
       "      <td>dota</td>\n",
       "      <td>8251.18</td>\n",
       "      <td>808</td>\n",
       "      <td>30339.86</td>\n",
       "      <td>754</td>\n",
       "      <td>3.677033</td>\n",
       "      <td>40.238541</td>\n",
       "    </tr>\n",
       "    <tr>\n",
       "      <th>1</th>\n",
       "      <td>12/31/2022</td>\n",
       "      <td>12</td>\n",
       "      <td>2022</td>\n",
       "      <td>APITO</td>\n",
       "      <td>48.97</td>\n",
       "      <td>84</td>\n",
       "      <td>400.95</td>\n",
       "      <td>1</td>\n",
       "      <td>8.187666</td>\n",
       "      <td>400.950000</td>\n",
       "    </tr>\n",
       "    <tr>\n",
       "      <th>2</th>\n",
       "      <td>12/31/2022</td>\n",
       "      <td>Dezembro</td>\n",
       "      <td>2022</td>\n",
       "      <td>TELEVISÃO</td>\n",
       "      <td>74.97</td>\n",
       "      <td>23</td>\n",
       "      <td>0.00</td>\n",
       "      <td>0</td>\n",
       "      <td>0.000000</td>\n",
       "      <td>0.000000</td>\n",
       "    </tr>\n",
       "    <tr>\n",
       "      <th>3</th>\n",
       "      <td>31-12-2022</td>\n",
       "      <td>12</td>\n",
       "      <td>2022</td>\n",
       "      <td>xadrez</td>\n",
       "      <td>2300.61</td>\n",
       "      <td>4539</td>\n",
       "      <td>12331.83</td>\n",
       "      <td>79</td>\n",
       "      <td>5.360244</td>\n",
       "      <td>156.099114</td>\n",
       "    </tr>\n",
       "    <tr>\n",
       "      <th>4</th>\n",
       "      <td>31-12-2022</td>\n",
       "      <td>12</td>\n",
       "      <td>2022</td>\n",
       "      <td>bolsa</td>\n",
       "      <td>325.48</td>\n",
       "      <td>53</td>\n",
       "      <td>0.00</td>\n",
       "      <td>0</td>\n",
       "      <td>0.000000</td>\n",
       "      <td>0.000000</td>\n",
       "    </tr>\n",
       "  </tbody>\n",
       "</table>\n",
       "</div>"
      ],
      "text/plain": [
       "         Data       Mês   Ano     Objeto  Investido  Cliques   Receita  \\\n",
       "0  12/31/2022  Dezembro    22       dota    8251.18      808  30339.86   \n",
       "1  12/31/2022        12  2022      APITO      48.97       84    400.95   \n",
       "2  12/31/2022  Dezembro  2022  TELEVISÃO      74.97       23      0.00   \n",
       "3  31-12-2022        12  2022     xadrez    2300.61     4539  12331.83   \n",
       "4  31-12-2022        12  2022      bolsa     325.48       53      0.00   \n",
       "\n",
       "   Conversões      ROAS  Ticket médio  \n",
       "0         754  3.677033     40.238541  \n",
       "1           1  8.187666    400.950000  \n",
       "2           0  0.000000      0.000000  \n",
       "3          79  5.360244    156.099114  \n",
       "4           0  0.000000      0.000000  "
      ]
     },
     "execution_count": 9,
     "metadata": {},
     "output_type": "execute_result"
    }
   ],
   "source": [
    "df_vendas.head()"
   ]
  },
  {
   "cell_type": "code",
   "execution_count": 10,
   "id": "fa3a7e8d3a8690de",
   "metadata": {
    "collapsed": false,
    "jupyter": {
     "outputs_hidden": false
    }
   },
   "outputs": [
    {
     "name": "stdout",
     "output_type": "stream",
     "text": [
      "<class 'pandas.core.frame.DataFrame'>\n",
      "RangeIndex: 6657 entries, 0 to 6656\n",
      "Data columns (total 10 columns):\n",
      " #   Column        Non-Null Count  Dtype  \n",
      "---  ------        --------------  -----  \n",
      " 0   Data          6657 non-null   object \n",
      " 1   Mês           6657 non-null   object \n",
      " 2   Ano           6657 non-null   object \n",
      " 3   Objeto        6657 non-null   object \n",
      " 4   Investido     6657 non-null   float64\n",
      " 5   Cliques       6657 non-null   int64  \n",
      " 6   Receita       6657 non-null   float64\n",
      " 7   Conversões    6657 non-null   int64  \n",
      " 8   ROAS          6657 non-null   float64\n",
      " 9   Ticket médio  6657 non-null   float64\n",
      "dtypes: float64(4), int64(2), object(4)\n",
      "memory usage: 520.2+ KB\n"
     ]
    }
   ],
   "source": [
    "df_vendas.info()"
   ]
  },
  {
   "cell_type": "code",
   "execution_count": 11,
   "id": "9af29f8e44db38bb",
   "metadata": {
    "collapsed": false,
    "jupyter": {
     "outputs_hidden": false
    }
   },
   "outputs": [],
   "source": [
    "df_vendas.columns = [\"data_venda\", \"mes\", \"ano\", \"objeto\", \"investido\", \"cliques\", \"receita\", \"conversao\", \"roas\", \"ticket_medio\"]\n",
    "df_produtos.columns = [\"sku\", \"objeto\"]"
   ]
  },
  {
   "cell_type": "code",
   "execution_count": 12,
   "id": "663e1bdd125c061f",
   "metadata": {
    "collapsed": false,
    "jupyter": {
     "outputs_hidden": false
    }
   },
   "outputs": [
    {
     "data": {
      "text/plain": [
       "data_venda      0.0\n",
       "mes             0.0\n",
       "ano             0.0\n",
       "objeto          0.0\n",
       "investido       0.0\n",
       "cliques         0.0\n",
       "receita         0.0\n",
       "conversao       0.0\n",
       "roas            0.0\n",
       "ticket_medio    0.0\n",
       "dtype: float64"
      ]
     },
     "execution_count": 12,
     "metadata": {},
     "output_type": "execute_result"
    }
   ],
   "source": [
    "df_vendas.isna().mean()"
   ]
  },
  {
   "cell_type": "code",
   "execution_count": 13,
   "id": "8d773184bf1bbf73",
   "metadata": {
    "collapsed": false,
    "jupyter": {
     "outputs_hidden": false
    }
   },
   "outputs": [
    {
     "data": {
      "text/plain": [
       "data_venda      0.0\n",
       "mes             0.0\n",
       "ano             0.0\n",
       "objeto          0.0\n",
       "investido       0.0\n",
       "cliques         0.0\n",
       "receita         0.0\n",
       "conversao       0.0\n",
       "roas            0.0\n",
       "ticket_medio    0.0\n",
       "dtype: float64"
      ]
     },
     "execution_count": 13,
     "metadata": {},
     "output_type": "execute_result"
    }
   ],
   "source": [
    "df_vendas.isnull().mean()"
   ]
  },
  {
   "cell_type": "code",
   "execution_count": 14,
   "id": "7c92cf15b24897d7",
   "metadata": {
    "collapsed": false,
    "jupyter": {
     "outputs_hidden": false
    }
   },
   "outputs": [],
   "source": [
    "df_vendas.objeto = df_vendas.objeto.str.upper()"
   ]
  },
  {
   "cell_type": "code",
   "execution_count": 15,
   "id": "f52a7da098fa1be1",
   "metadata": {
    "collapsed": false,
    "jupyter": {
     "outputs_hidden": false
    }
   },
   "outputs": [],
   "source": [
    "df_vendas = df_vendas.join(df_produtos.set_index('objeto'),on=\"objeto\", how=\"left\")\n",
    "df_vendas.sku = df_vendas.sku.astype(\"Int64\")"
   ]
  },
  {
   "cell_type": "code",
   "execution_count": 16,
   "id": "bdc4a642eed8a1a5",
   "metadata": {
    "collapsed": false,
    "jupyter": {
     "outputs_hidden": false
    }
   },
   "outputs": [
    {
     "data": {
      "text/plain": [
       "data_venda      0.000000\n",
       "mes             0.000000\n",
       "ano             0.000000\n",
       "objeto          0.000000\n",
       "investido       0.000000\n",
       "cliques         0.000000\n",
       "receita         0.000000\n",
       "conversao       0.000000\n",
       "roas            0.000000\n",
       "ticket_medio    0.000000\n",
       "sku             0.287216\n",
       "dtype: float64"
      ]
     },
     "execution_count": 16,
     "metadata": {},
     "output_type": "execute_result"
    }
   ],
   "source": [
    "df_vendas.isna().mean()"
   ]
  },
  {
   "cell_type": "markdown",
   "id": "ad50be29cfcb8f6b",
   "metadata": {
    "collapsed": false,
    "jupyter": {
     "outputs_hidden": false
    }
   },
   "source": [
    "## 28% de valores sem vinculo de SKU\n",
    "\n",
    "o df de SKUS(df_produtos) esta ok para a analise.\n",
    "Já o df de Vendas(df_vendas) precisa de ajustes."
   ]
  },
  {
   "cell_type": "code",
   "execution_count": 17,
   "id": "a2918fdefac999fa",
   "metadata": {
    "collapsed": false,
    "jupyter": {
     "outputs_hidden": false
    }
   },
   "outputs": [
    {
     "data": {
      "text/plain": [
       "(6657, 11)"
      ]
     },
     "execution_count": 17,
     "metadata": {},
     "output_type": "execute_result"
    }
   ],
   "source": [
    "df_vendas.shape"
   ]
  },
  {
   "cell_type": "code",
   "execution_count": 18,
   "id": "686cdeb0c478bff",
   "metadata": {
    "collapsed": false,
    "jupyter": {
     "outputs_hidden": false
    }
   },
   "outputs": [],
   "source": [
    "df_vendas.dropna(inplace=True)"
   ]
  },
  {
   "cell_type": "code",
   "execution_count": 19,
   "id": "6afd3898f903550d",
   "metadata": {
    "collapsed": false,
    "jupyter": {
     "outputs_hidden": false
    }
   },
   "outputs": [
    {
     "data": {
      "text/plain": [
       "(4745, 11)"
      ]
     },
     "execution_count": 19,
     "metadata": {},
     "output_type": "execute_result"
    }
   ],
   "source": [
    "df_vendas.shape"
   ]
  },
  {
   "cell_type": "code",
   "execution_count": 20,
   "id": "c278a04042565dd9",
   "metadata": {
    "collapsed": false,
    "jupyter": {
     "outputs_hidden": false
    }
   },
   "outputs": [
    {
     "data": {
      "text/html": [
       "<div>\n",
       "<style scoped>\n",
       "    .dataframe tbody tr th:only-of-type {\n",
       "        vertical-align: middle;\n",
       "    }\n",
       "\n",
       "    .dataframe tbody tr th {\n",
       "        vertical-align: top;\n",
       "    }\n",
       "\n",
       "    .dataframe thead th {\n",
       "        text-align: right;\n",
       "    }\n",
       "</style>\n",
       "<table border=\"1\" class=\"dataframe\">\n",
       "  <thead>\n",
       "    <tr style=\"text-align: right;\">\n",
       "      <th></th>\n",
       "      <th>data_venda</th>\n",
       "      <th>mes</th>\n",
       "      <th>ano</th>\n",
       "      <th>objeto</th>\n",
       "      <th>investido</th>\n",
       "      <th>cliques</th>\n",
       "      <th>receita</th>\n",
       "      <th>conversao</th>\n",
       "      <th>roas</th>\n",
       "      <th>ticket_medio</th>\n",
       "      <th>sku</th>\n",
       "    </tr>\n",
       "  </thead>\n",
       "  <tbody>\n",
       "    <tr>\n",
       "      <th>1</th>\n",
       "      <td>12/31/2022</td>\n",
       "      <td>12</td>\n",
       "      <td>2022</td>\n",
       "      <td>APITO</td>\n",
       "      <td>48.97</td>\n",
       "      <td>84</td>\n",
       "      <td>400.95</td>\n",
       "      <td>1</td>\n",
       "      <td>8.187666</td>\n",
       "      <td>400.950000</td>\n",
       "      <td>1002</td>\n",
       "    </tr>\n",
       "    <tr>\n",
       "      <th>2</th>\n",
       "      <td>12/31/2022</td>\n",
       "      <td>Dezembro</td>\n",
       "      <td>2022</td>\n",
       "      <td>TELEVISÃO</td>\n",
       "      <td>74.97</td>\n",
       "      <td>23</td>\n",
       "      <td>0.00</td>\n",
       "      <td>0</td>\n",
       "      <td>0.000000</td>\n",
       "      <td>0.000000</td>\n",
       "      <td>1027</td>\n",
       "    </tr>\n",
       "    <tr>\n",
       "      <th>3</th>\n",
       "      <td>31-12-2022</td>\n",
       "      <td>12</td>\n",
       "      <td>2022</td>\n",
       "      <td>XADREZ</td>\n",
       "      <td>2300.61</td>\n",
       "      <td>4539</td>\n",
       "      <td>12331.83</td>\n",
       "      <td>79</td>\n",
       "      <td>5.360244</td>\n",
       "      <td>156.099114</td>\n",
       "      <td>1029</td>\n",
       "    </tr>\n",
       "    <tr>\n",
       "      <th>4</th>\n",
       "      <td>31-12-2022</td>\n",
       "      <td>12</td>\n",
       "      <td>2022</td>\n",
       "      <td>BOLSA</td>\n",
       "      <td>325.48</td>\n",
       "      <td>53</td>\n",
       "      <td>0.00</td>\n",
       "      <td>0</td>\n",
       "      <td>0.000000</td>\n",
       "      <td>0.000000</td>\n",
       "      <td>1004</td>\n",
       "    </tr>\n",
       "    <tr>\n",
       "      <th>6</th>\n",
       "      <td>31-12-2022</td>\n",
       "      <td>Dezembro</td>\n",
       "      <td>2022</td>\n",
       "      <td>CACHIMBO</td>\n",
       "      <td>452.57</td>\n",
       "      <td>189</td>\n",
       "      <td>2047.41</td>\n",
       "      <td>7</td>\n",
       "      <td>4.523963</td>\n",
       "      <td>292.487143</td>\n",
       "      <td>1006</td>\n",
       "    </tr>\n",
       "  </tbody>\n",
       "</table>\n",
       "</div>"
      ],
      "text/plain": [
       "   data_venda       mes   ano     objeto  investido  cliques   receita  \\\n",
       "1  12/31/2022        12  2022      APITO      48.97       84    400.95   \n",
       "2  12/31/2022  Dezembro  2022  TELEVISÃO      74.97       23      0.00   \n",
       "3  31-12-2022        12  2022     XADREZ    2300.61     4539  12331.83   \n",
       "4  31-12-2022        12  2022      BOLSA     325.48       53      0.00   \n",
       "6  31-12-2022  Dezembro  2022   CACHIMBO     452.57      189   2047.41   \n",
       "\n",
       "   conversao      roas  ticket_medio   sku  \n",
       "1          1  8.187666    400.950000  1002  \n",
       "2          0  0.000000      0.000000  1027  \n",
       "3         79  5.360244    156.099114  1029  \n",
       "4          0  0.000000      0.000000  1004  \n",
       "6          7  4.523963    292.487143  1006  "
      ]
     },
     "execution_count": 20,
     "metadata": {},
     "output_type": "execute_result"
    }
   ],
   "source": [
    "df_vendas.head()"
   ]
  },
  {
   "cell_type": "code",
   "execution_count": 21,
   "id": "8a8040320c875ec4",
   "metadata": {
    "collapsed": false,
    "jupyter": {
     "outputs_hidden": false
    }
   },
   "outputs": [
    {
     "data": {
      "text/plain": [
       "(4745, 11)"
      ]
     },
     "execution_count": 21,
     "metadata": {},
     "output_type": "execute_result"
    }
   ],
   "source": [
    "df_vendas.shape"
   ]
  },
  {
   "cell_type": "code",
   "execution_count": 22,
   "id": "22ac2d7c992a1e0f",
   "metadata": {
    "collapsed": false,
    "jupyter": {
     "outputs_hidden": false
    }
   },
   "outputs": [
    {
     "data": {
      "text/plain": [
       "array([12, 'Dezembro', 11, 'Novembro', 13, 10, 'Outubro', 'Setembro', 9,\n",
       "       'Agosto', 8, 7, 'Julho', 'Junho', 6, 'Maio', 5, 'Abril', 4, 3,\n",
       "       'Março', 'Fevereiro', 2, 'Jan', 'Janeiro', 1], dtype=object)"
      ]
     },
     "execution_count": 22,
     "metadata": {},
     "output_type": "execute_result"
    }
   ],
   "source": [
    "df_vendas.mes.unique()"
   ]
  },
  {
   "cell_type": "code",
   "execution_count": 23,
   "id": "d6470a99ed9c3b67",
   "metadata": {
    "collapsed": false,
    "jupyter": {
     "outputs_hidden": false
    }
   },
   "outputs": [
    {
     "data": {
      "text/html": [
       "<div>\n",
       "<style scoped>\n",
       "    .dataframe tbody tr th:only-of-type {\n",
       "        vertical-align: middle;\n",
       "    }\n",
       "\n",
       "    .dataframe tbody tr th {\n",
       "        vertical-align: top;\n",
       "    }\n",
       "\n",
       "    .dataframe thead th {\n",
       "        text-align: right;\n",
       "    }\n",
       "</style>\n",
       "<table border=\"1\" class=\"dataframe\">\n",
       "  <thead>\n",
       "    <tr style=\"text-align: right;\">\n",
       "      <th></th>\n",
       "      <th>data_venda</th>\n",
       "      <th>mes</th>\n",
       "      <th>ano</th>\n",
       "      <th>objeto</th>\n",
       "      <th>investido</th>\n",
       "      <th>cliques</th>\n",
       "      <th>receita</th>\n",
       "      <th>conversao</th>\n",
       "      <th>roas</th>\n",
       "      <th>ticket_medio</th>\n",
       "      <th>sku</th>\n",
       "    </tr>\n",
       "  </thead>\n",
       "  <tbody>\n",
       "    <tr>\n",
       "      <th>986</th>\n",
       "      <td>11/11/2022</td>\n",
       "      <td>13</td>\n",
       "      <td>2022</td>\n",
       "      <td>DADO</td>\n",
       "      <td>6547.35</td>\n",
       "      <td>2630</td>\n",
       "      <td>29010.83</td>\n",
       "      <td>16</td>\n",
       "      <td>4.430927</td>\n",
       "      <td>1813.176875</td>\n",
       "      <td>1013</td>\n",
       "    </tr>\n",
       "  </tbody>\n",
       "</table>\n",
       "</div>"
      ],
      "text/plain": [
       "     data_venda mes   ano objeto  investido  cliques   receita  conversao  \\\n",
       "986  11/11/2022  13  2022   DADO    6547.35     2630  29010.83         16   \n",
       "\n",
       "         roas  ticket_medio   sku  \n",
       "986  4.430927   1813.176875  1013  "
      ]
     },
     "execution_count": 23,
     "metadata": {},
     "output_type": "execute_result"
    }
   ],
   "source": [
    "# Verificando meses invalidos\n",
    "\n",
    "df_vendas.loc[df_vendas.mes.isin([0, 13])]"
   ]
  },
  {
   "cell_type": "code",
   "execution_count": 24,
   "id": "a9b25c6e6a5facd8",
   "metadata": {
    "collapsed": false,
    "jupyter": {
     "outputs_hidden": false
    }
   },
   "outputs": [
    {
     "data": {
      "text/plain": [
       "array([2022, '22', 9999, 'YY'], dtype=object)"
      ]
     },
     "execution_count": 24,
     "metadata": {},
     "output_type": "execute_result"
    }
   ],
   "source": [
    "df_vendas.ano.unique()"
   ]
  },
  {
   "cell_type": "code",
   "execution_count": 25,
   "id": "50c8c2753470804f",
   "metadata": {
    "collapsed": false,
    "jupyter": {
     "outputs_hidden": false
    }
   },
   "outputs": [
    {
     "data": {
      "text/html": [
       "<div>\n",
       "<style scoped>\n",
       "    .dataframe tbody tr th:only-of-type {\n",
       "        vertical-align: middle;\n",
       "    }\n",
       "\n",
       "    .dataframe tbody tr th {\n",
       "        vertical-align: top;\n",
       "    }\n",
       "\n",
       "    .dataframe thead th {\n",
       "        text-align: right;\n",
       "    }\n",
       "</style>\n",
       "<table border=\"1\" class=\"dataframe\">\n",
       "  <thead>\n",
       "    <tr style=\"text-align: right;\">\n",
       "      <th></th>\n",
       "      <th>data_venda</th>\n",
       "      <th>mes</th>\n",
       "      <th>ano</th>\n",
       "      <th>objeto</th>\n",
       "      <th>investido</th>\n",
       "      <th>cliques</th>\n",
       "      <th>receita</th>\n",
       "      <th>conversao</th>\n",
       "      <th>roas</th>\n",
       "      <th>ticket_medio</th>\n",
       "      <th>sku</th>\n",
       "    </tr>\n",
       "  </thead>\n",
       "  <tbody>\n",
       "    <tr>\n",
       "      <th>1474</th>\n",
       "      <td>16-10-2022</td>\n",
       "      <td>10</td>\n",
       "      <td>9999</td>\n",
       "      <td>COPO</td>\n",
       "      <td>691.99</td>\n",
       "      <td>525</td>\n",
       "      <td>1247.06</td>\n",
       "      <td>13</td>\n",
       "      <td>1.802136</td>\n",
       "      <td>95.927692</td>\n",
       "      <td>1012</td>\n",
       "    </tr>\n",
       "    <tr>\n",
       "      <th>5692</th>\n",
       "      <td>26-02-2022</td>\n",
       "      <td>2</td>\n",
       "      <td>YY</td>\n",
       "      <td>XÍCARA</td>\n",
       "      <td>104.39</td>\n",
       "      <td>194</td>\n",
       "      <td>325.75</td>\n",
       "      <td>7</td>\n",
       "      <td>3.120510</td>\n",
       "      <td>46.535714</td>\n",
       "      <td>1030</td>\n",
       "    </tr>\n",
       "  </tbody>\n",
       "</table>\n",
       "</div>"
      ],
      "text/plain": [
       "      data_venda mes   ano  objeto  investido  cliques  receita  conversao  \\\n",
       "1474  16-10-2022  10  9999    COPO     691.99      525  1247.06         13   \n",
       "5692  26-02-2022   2    YY  XÍCARA     104.39      194   325.75          7   \n",
       "\n",
       "          roas  ticket_medio   sku  \n",
       "1474  1.802136     95.927692  1012  \n",
       "5692  3.120510     46.535714  1030  "
      ]
     },
     "execution_count": 25,
     "metadata": {},
     "output_type": "execute_result"
    }
   ],
   "source": [
    "# Verificando o ano 9999\n",
    "\n",
    "df_vendas.loc[df_vendas.ano.isin([9999, 2025, 1900, \"YY\"])]\n"
   ]
  },
  {
   "cell_type": "markdown",
   "id": "206130089fdbcb20",
   "metadata": {
    "collapsed": false,
    "jupyter": {
     "outputs_hidden": false
    }
   },
   "source": [
    "## Datas com problemas !!\n",
    "\n",
    "- data_venda:\n",
    "  - tem datas de vários formatos, e datas inválidas\n",
    "- mes:\n",
    "  - tem meses inválidos\n",
    "- ano:\n",
    "  - tem anos inválidos\n",
    "\n",
    "Preciso resolver cada uma dessas colunas para ter uma data de análise fiel.\n",
    "Vou separar, formatar, juntar para somente assim tratar as datas.\n"
   ]
  },
  {
   "cell_type": "code",
   "execution_count": 26,
   "id": "1197a640aca5ef23",
   "metadata": {
    "collapsed": false,
    "jupyter": {
     "outputs_hidden": false
    }
   },
   "outputs": [],
   "source": [
    "\n",
    "df_vendas.mes = df_vendas.mes.apply(clear_month)\n",
    "df_vendas.ano = df_vendas.ano.apply(clear_year)"
   ]
  },
  {
   "cell_type": "code",
   "execution_count": 27,
   "id": "7c90efb6e0a05fdd",
   "metadata": {
    "collapsed": false,
    "jupyter": {
     "outputs_hidden": false
    }
   },
   "outputs": [
    {
     "data": {
      "text/html": [
       "<div>\n",
       "<style scoped>\n",
       "    .dataframe tbody tr th:only-of-type {\n",
       "        vertical-align: middle;\n",
       "    }\n",
       "\n",
       "    .dataframe tbody tr th {\n",
       "        vertical-align: top;\n",
       "    }\n",
       "\n",
       "    .dataframe thead th {\n",
       "        text-align: right;\n",
       "    }\n",
       "</style>\n",
       "<table border=\"1\" class=\"dataframe\">\n",
       "  <thead>\n",
       "    <tr style=\"text-align: right;\">\n",
       "      <th></th>\n",
       "      <th>data_venda</th>\n",
       "      <th>mes</th>\n",
       "      <th>ano</th>\n",
       "      <th>objeto</th>\n",
       "      <th>investido</th>\n",
       "      <th>cliques</th>\n",
       "      <th>receita</th>\n",
       "      <th>conversao</th>\n",
       "      <th>roas</th>\n",
       "      <th>ticket_medio</th>\n",
       "      <th>sku</th>\n",
       "    </tr>\n",
       "  </thead>\n",
       "  <tbody>\n",
       "    <tr>\n",
       "      <th>1</th>\n",
       "      <td>12/31/2022</td>\n",
       "      <td>12</td>\n",
       "      <td>2022</td>\n",
       "      <td>APITO</td>\n",
       "      <td>48.97</td>\n",
       "      <td>84</td>\n",
       "      <td>400.95</td>\n",
       "      <td>1</td>\n",
       "      <td>8.187666</td>\n",
       "      <td>400.950000</td>\n",
       "      <td>1002</td>\n",
       "    </tr>\n",
       "    <tr>\n",
       "      <th>2</th>\n",
       "      <td>12/31/2022</td>\n",
       "      <td>12</td>\n",
       "      <td>2022</td>\n",
       "      <td>TELEVISÃO</td>\n",
       "      <td>74.97</td>\n",
       "      <td>23</td>\n",
       "      <td>0.00</td>\n",
       "      <td>0</td>\n",
       "      <td>0.000000</td>\n",
       "      <td>0.000000</td>\n",
       "      <td>1027</td>\n",
       "    </tr>\n",
       "    <tr>\n",
       "      <th>3</th>\n",
       "      <td>31-12-2022</td>\n",
       "      <td>12</td>\n",
       "      <td>2022</td>\n",
       "      <td>XADREZ</td>\n",
       "      <td>2300.61</td>\n",
       "      <td>4539</td>\n",
       "      <td>12331.83</td>\n",
       "      <td>79</td>\n",
       "      <td>5.360244</td>\n",
       "      <td>156.099114</td>\n",
       "      <td>1029</td>\n",
       "    </tr>\n",
       "    <tr>\n",
       "      <th>4</th>\n",
       "      <td>31-12-2022</td>\n",
       "      <td>12</td>\n",
       "      <td>2022</td>\n",
       "      <td>BOLSA</td>\n",
       "      <td>325.48</td>\n",
       "      <td>53</td>\n",
       "      <td>0.00</td>\n",
       "      <td>0</td>\n",
       "      <td>0.000000</td>\n",
       "      <td>0.000000</td>\n",
       "      <td>1004</td>\n",
       "    </tr>\n",
       "    <tr>\n",
       "      <th>6</th>\n",
       "      <td>31-12-2022</td>\n",
       "      <td>12</td>\n",
       "      <td>2022</td>\n",
       "      <td>CACHIMBO</td>\n",
       "      <td>452.57</td>\n",
       "      <td>189</td>\n",
       "      <td>2047.41</td>\n",
       "      <td>7</td>\n",
       "      <td>4.523963</td>\n",
       "      <td>292.487143</td>\n",
       "      <td>1006</td>\n",
       "    </tr>\n",
       "  </tbody>\n",
       "</table>\n",
       "</div>"
      ],
      "text/plain": [
       "   data_venda  mes   ano     objeto  investido  cliques   receita  conversao  \\\n",
       "1  12/31/2022   12  2022      APITO      48.97       84    400.95          1   \n",
       "2  12/31/2022   12  2022  TELEVISÃO      74.97       23      0.00          0   \n",
       "3  31-12-2022   12  2022     XADREZ    2300.61     4539  12331.83         79   \n",
       "4  31-12-2022   12  2022      BOLSA     325.48       53      0.00          0   \n",
       "6  31-12-2022   12  2022   CACHIMBO     452.57      189   2047.41          7   \n",
       "\n",
       "       roas  ticket_medio   sku  \n",
       "1  8.187666    400.950000  1002  \n",
       "2  0.000000      0.000000  1027  \n",
       "3  5.360244    156.099114  1029  \n",
       "4  0.000000      0.000000  1004  \n",
       "6  4.523963    292.487143  1006  "
      ]
     },
     "execution_count": 27,
     "metadata": {},
     "output_type": "execute_result"
    }
   ],
   "source": [
    "df_vendas.head()"
   ]
  },
  {
   "cell_type": "code",
   "execution_count": 28,
   "id": "84eeb33feaa00478",
   "metadata": {
    "collapsed": false,
    "jupyter": {
     "outputs_hidden": false
    }
   },
   "outputs": [],
   "source": [
    "df_vendas.data_venda = df_vendas.data_venda.astype(str)"
   ]
  },
  {
   "cell_type": "code",
   "execution_count": 29,
   "id": "98a6daf4d9e97a1d",
   "metadata": {
    "collapsed": false,
    "jupyter": {
     "outputs_hidden": false
    }
   },
   "outputs": [],
   "source": [
    "dfv1 = df_vendas.loc[df_vendas.data_venda.str.find('/') > -1]"
   ]
  },
  {
   "cell_type": "code",
   "execution_count": 30,
   "id": "ec6f453619564dbc",
   "metadata": {
    "collapsed": false,
    "jupyter": {
     "outputs_hidden": false
    }
   },
   "outputs": [],
   "source": [
    "\n",
    "dfv2 = df_vendas.loc[df_vendas.data_venda.str.find('-') > -1]"
   ]
  },
  {
   "cell_type": "code",
   "execution_count": 31,
   "id": "73f8a8b8422a5cae",
   "metadata": {
    "collapsed": false,
    "jupyter": {
     "outputs_hidden": false
    }
   },
   "outputs": [],
   "source": [
    "dfv3 = df_vendas.loc[~df_vendas.index.isin(dfv1.index) & ~df_vendas.index.isin(dfv2.index)]"
   ]
  },
  {
   "cell_type": "code",
   "execution_count": 32,
   "id": "cd978bd40ea9a9f9",
   "metadata": {
    "collapsed": false,
    "jupyter": {
     "outputs_hidden": false
    }
   },
   "outputs": [
    {
     "data": {
      "text/html": [
       "<div>\n",
       "<style scoped>\n",
       "    .dataframe tbody tr th:only-of-type {\n",
       "        vertical-align: middle;\n",
       "    }\n",
       "\n",
       "    .dataframe tbody tr th {\n",
       "        vertical-align: top;\n",
       "    }\n",
       "\n",
       "    .dataframe thead th {\n",
       "        text-align: right;\n",
       "    }\n",
       "</style>\n",
       "<table border=\"1\" class=\"dataframe\">\n",
       "  <thead>\n",
       "    <tr style=\"text-align: right;\">\n",
       "      <th></th>\n",
       "      <th>data_venda</th>\n",
       "      <th>mes</th>\n",
       "      <th>ano</th>\n",
       "      <th>objeto</th>\n",
       "      <th>investido</th>\n",
       "      <th>cliques</th>\n",
       "      <th>receita</th>\n",
       "      <th>conversao</th>\n",
       "      <th>roas</th>\n",
       "      <th>ticket_medio</th>\n",
       "      <th>sku</th>\n",
       "    </tr>\n",
       "  </thead>\n",
       "  <tbody>\n",
       "    <tr>\n",
       "      <th>1</th>\n",
       "      <td>12/31/2022</td>\n",
       "      <td>12</td>\n",
       "      <td>2022</td>\n",
       "      <td>APITO</td>\n",
       "      <td>48.97</td>\n",
       "      <td>84</td>\n",
       "      <td>400.95</td>\n",
       "      <td>1</td>\n",
       "      <td>8.187666</td>\n",
       "      <td>400.950000</td>\n",
       "      <td>1002</td>\n",
       "    </tr>\n",
       "    <tr>\n",
       "      <th>2</th>\n",
       "      <td>12/31/2022</td>\n",
       "      <td>12</td>\n",
       "      <td>2022</td>\n",
       "      <td>TELEVISÃO</td>\n",
       "      <td>74.97</td>\n",
       "      <td>23</td>\n",
       "      <td>0.00</td>\n",
       "      <td>0</td>\n",
       "      <td>0.000000</td>\n",
       "      <td>0.000000</td>\n",
       "      <td>1027</td>\n",
       "    </tr>\n",
       "    <tr>\n",
       "      <th>8</th>\n",
       "      <td>12/31/2022</td>\n",
       "      <td>12</td>\n",
       "      <td>2022</td>\n",
       "      <td>LIVRO</td>\n",
       "      <td>2022.46</td>\n",
       "      <td>3646</td>\n",
       "      <td>5069.58</td>\n",
       "      <td>16</td>\n",
       "      <td>2.506640</td>\n",
       "      <td>316.848750</td>\n",
       "      <td>1017</td>\n",
       "    </tr>\n",
       "    <tr>\n",
       "      <th>11</th>\n",
       "      <td>31/12/2022</td>\n",
       "      <td>12</td>\n",
       "      <td>2022</td>\n",
       "      <td>DISCO</td>\n",
       "      <td>1028.95</td>\n",
       "      <td>16922</td>\n",
       "      <td>5325.08</td>\n",
       "      <td>40</td>\n",
       "      <td>5.175256</td>\n",
       "      <td>133.127000</td>\n",
       "      <td>1014</td>\n",
       "    </tr>\n",
       "    <tr>\n",
       "      <th>14</th>\n",
       "      <td>12/31/2022</td>\n",
       "      <td>12</td>\n",
       "      <td>2022</td>\n",
       "      <td>AGULHA</td>\n",
       "      <td>283.24</td>\n",
       "      <td>1617</td>\n",
       "      <td>1760.37</td>\n",
       "      <td>31</td>\n",
       "      <td>6.215118</td>\n",
       "      <td>56.786129</td>\n",
       "      <td>1001</td>\n",
       "    </tr>\n",
       "  </tbody>\n",
       "</table>\n",
       "</div>"
      ],
      "text/plain": [
       "    data_venda  mes   ano     objeto  investido  cliques  receita  conversao  \\\n",
       "1   12/31/2022   12  2022      APITO      48.97       84   400.95          1   \n",
       "2   12/31/2022   12  2022  TELEVISÃO      74.97       23     0.00          0   \n",
       "8   12/31/2022   12  2022      LIVRO    2022.46     3646  5069.58         16   \n",
       "11  31/12/2022   12  2022      DISCO    1028.95    16922  5325.08         40   \n",
       "14  12/31/2022   12  2022     AGULHA     283.24     1617  1760.37         31   \n",
       "\n",
       "        roas  ticket_medio   sku  \n",
       "1   8.187666    400.950000  1002  \n",
       "2   0.000000      0.000000  1027  \n",
       "8   2.506640    316.848750  1017  \n",
       "11  5.175256    133.127000  1014  \n",
       "14  6.215118     56.786129  1001  "
      ]
     },
     "execution_count": 32,
     "metadata": {},
     "output_type": "execute_result"
    }
   ],
   "source": [
    "dfv1.head()"
   ]
  },
  {
   "cell_type": "code",
   "execution_count": 33,
   "id": "67b35128c8b401a2",
   "metadata": {
    "collapsed": false,
    "jupyter": {
     "outputs_hidden": false
    }
   },
   "outputs": [
    {
     "data": {
      "text/html": [
       "<div>\n",
       "<style scoped>\n",
       "    .dataframe tbody tr th:only-of-type {\n",
       "        vertical-align: middle;\n",
       "    }\n",
       "\n",
       "    .dataframe tbody tr th {\n",
       "        vertical-align: top;\n",
       "    }\n",
       "\n",
       "    .dataframe thead th {\n",
       "        text-align: right;\n",
       "    }\n",
       "</style>\n",
       "<table border=\"1\" class=\"dataframe\">\n",
       "  <thead>\n",
       "    <tr style=\"text-align: right;\">\n",
       "      <th></th>\n",
       "      <th>data_venda</th>\n",
       "      <th>mes</th>\n",
       "      <th>ano</th>\n",
       "      <th>objeto</th>\n",
       "      <th>investido</th>\n",
       "      <th>cliques</th>\n",
       "      <th>receita</th>\n",
       "      <th>conversao</th>\n",
       "      <th>roas</th>\n",
       "      <th>ticket_medio</th>\n",
       "      <th>sku</th>\n",
       "    </tr>\n",
       "  </thead>\n",
       "  <tbody>\n",
       "    <tr>\n",
       "      <th>3</th>\n",
       "      <td>31-12-2022</td>\n",
       "      <td>12</td>\n",
       "      <td>2022</td>\n",
       "      <td>XADREZ</td>\n",
       "      <td>2300.61</td>\n",
       "      <td>4539</td>\n",
       "      <td>12331.83</td>\n",
       "      <td>79</td>\n",
       "      <td>5.360244</td>\n",
       "      <td>156.099114</td>\n",
       "      <td>1029</td>\n",
       "    </tr>\n",
       "    <tr>\n",
       "      <th>4</th>\n",
       "      <td>31-12-2022</td>\n",
       "      <td>12</td>\n",
       "      <td>2022</td>\n",
       "      <td>BOLSA</td>\n",
       "      <td>325.48</td>\n",
       "      <td>53</td>\n",
       "      <td>0.00</td>\n",
       "      <td>0</td>\n",
       "      <td>0.000000</td>\n",
       "      <td>0.000000</td>\n",
       "      <td>1004</td>\n",
       "    </tr>\n",
       "    <tr>\n",
       "      <th>6</th>\n",
       "      <td>31-12-2022</td>\n",
       "      <td>12</td>\n",
       "      <td>2022</td>\n",
       "      <td>CACHIMBO</td>\n",
       "      <td>452.57</td>\n",
       "      <td>189</td>\n",
       "      <td>2047.41</td>\n",
       "      <td>7</td>\n",
       "      <td>4.523963</td>\n",
       "      <td>292.487143</td>\n",
       "      <td>1006</td>\n",
       "    </tr>\n",
       "    <tr>\n",
       "      <th>7</th>\n",
       "      <td>31-12-2022</td>\n",
       "      <td>12</td>\n",
       "      <td>2022</td>\n",
       "      <td>CARRO</td>\n",
       "      <td>0.00</td>\n",
       "      <td>0</td>\n",
       "      <td>0.00</td>\n",
       "      <td>0</td>\n",
       "      <td>0.000000</td>\n",
       "      <td>0.000000</td>\n",
       "      <td>1009</td>\n",
       "    </tr>\n",
       "    <tr>\n",
       "      <th>9</th>\n",
       "      <td>31-12-2022</td>\n",
       "      <td>12</td>\n",
       "      <td>2022</td>\n",
       "      <td>LANTERNA</td>\n",
       "      <td>10311.37</td>\n",
       "      <td>8580</td>\n",
       "      <td>2972.11</td>\n",
       "      <td>1276</td>\n",
       "      <td>0.288236</td>\n",
       "      <td>2.329240</td>\n",
       "      <td>1016</td>\n",
       "    </tr>\n",
       "  </tbody>\n",
       "</table>\n",
       "</div>"
      ],
      "text/plain": [
       "   data_venda  mes   ano    objeto  investido  cliques   receita  conversao  \\\n",
       "3  31-12-2022   12  2022    XADREZ    2300.61     4539  12331.83         79   \n",
       "4  31-12-2022   12  2022     BOLSA     325.48       53      0.00          0   \n",
       "6  31-12-2022   12  2022  CACHIMBO     452.57      189   2047.41          7   \n",
       "7  31-12-2022   12  2022     CARRO       0.00        0      0.00          0   \n",
       "9  31-12-2022   12  2022  LANTERNA   10311.37     8580   2972.11       1276   \n",
       "\n",
       "       roas  ticket_medio   sku  \n",
       "3  5.360244    156.099114  1029  \n",
       "4  0.000000      0.000000  1004  \n",
       "6  4.523963    292.487143  1006  \n",
       "7  0.000000      0.000000  1009  \n",
       "9  0.288236      2.329240  1016  "
      ]
     },
     "execution_count": 33,
     "metadata": {},
     "output_type": "execute_result"
    }
   ],
   "source": [
    "dfv2.head()"
   ]
  },
  {
   "cell_type": "code",
   "execution_count": 34,
   "id": "605d3f94dad92aad",
   "metadata": {
    "collapsed": false,
    "jupyter": {
     "outputs_hidden": false
    }
   },
   "outputs": [
    {
     "data": {
      "text/html": [
       "<div>\n",
       "<style scoped>\n",
       "    .dataframe tbody tr th:only-of-type {\n",
       "        vertical-align: middle;\n",
       "    }\n",
       "\n",
       "    .dataframe tbody tr th {\n",
       "        vertical-align: top;\n",
       "    }\n",
       "\n",
       "    .dataframe thead th {\n",
       "        text-align: right;\n",
       "    }\n",
       "</style>\n",
       "<table border=\"1\" class=\"dataframe\">\n",
       "  <thead>\n",
       "    <tr style=\"text-align: right;\">\n",
       "      <th></th>\n",
       "      <th>data_venda</th>\n",
       "      <th>mes</th>\n",
       "      <th>ano</th>\n",
       "      <th>objeto</th>\n",
       "      <th>investido</th>\n",
       "      <th>cliques</th>\n",
       "      <th>receita</th>\n",
       "      <th>conversao</th>\n",
       "      <th>roas</th>\n",
       "      <th>ticket_medio</th>\n",
       "      <th>sku</th>\n",
       "    </tr>\n",
       "  </thead>\n",
       "  <tbody>\n",
       "  </tbody>\n",
       "</table>\n",
       "</div>"
      ],
      "text/plain": [
       "Empty DataFrame\n",
       "Columns: [data_venda, mes, ano, objeto, investido, cliques, receita, conversao, roas, ticket_medio, sku]\n",
       "Index: []"
      ]
     },
     "execution_count": 34,
     "metadata": {},
     "output_type": "execute_result"
    }
   ],
   "source": [
    "dfv3.head()"
   ]
  },
  {
   "cell_type": "code",
   "execution_count": 35,
   "id": "8631dcd5e6bcebbe",
   "metadata": {
    "collapsed": false,
    "jupyter": {
     "outputs_hidden": false
    }
   },
   "outputs": [
    {
     "name": "stderr",
     "output_type": "stream",
     "text": [
      "/tmp/ipykernel_546073/3255690638.py:1: SettingWithCopyWarning: \n",
      "A value is trying to be set on a copy of a slice from a DataFrame.\n",
      "Try using .loc[row_indexer,col_indexer] = value instead\n",
      "\n",
      "See the caveats in the documentation: https://pandas.pydata.org/pandas-docs/stable/user_guide/indexing.html#returning-a-view-versus-a-copy\n",
      "  dfv2.data_venda = dfv2.data_venda.str.replace('-', '/')\n"
     ]
    }
   ],
   "source": [
    "dfv2.data_venda = dfv2.data_venda.str.replace('-', '/')"
   ]
  },
  {
   "cell_type": "code",
   "execution_count": 36,
   "id": "2c282ece6b3167c6",
   "metadata": {
    "collapsed": false,
    "jupyter": {
     "outputs_hidden": false
    }
   },
   "outputs": [
    {
     "data": {
      "text/html": [
       "<div>\n",
       "<style scoped>\n",
       "    .dataframe tbody tr th:only-of-type {\n",
       "        vertical-align: middle;\n",
       "    }\n",
       "\n",
       "    .dataframe tbody tr th {\n",
       "        vertical-align: top;\n",
       "    }\n",
       "\n",
       "    .dataframe thead th {\n",
       "        text-align: right;\n",
       "    }\n",
       "</style>\n",
       "<table border=\"1\" class=\"dataframe\">\n",
       "  <thead>\n",
       "    <tr style=\"text-align: right;\">\n",
       "      <th></th>\n",
       "      <th>data_venda</th>\n",
       "      <th>mes</th>\n",
       "      <th>ano</th>\n",
       "      <th>objeto</th>\n",
       "      <th>investido</th>\n",
       "      <th>cliques</th>\n",
       "      <th>receita</th>\n",
       "      <th>conversao</th>\n",
       "      <th>roas</th>\n",
       "      <th>ticket_medio</th>\n",
       "      <th>sku</th>\n",
       "    </tr>\n",
       "  </thead>\n",
       "  <tbody>\n",
       "    <tr>\n",
       "      <th>3</th>\n",
       "      <td>31/12/2022</td>\n",
       "      <td>12</td>\n",
       "      <td>2022</td>\n",
       "      <td>XADREZ</td>\n",
       "      <td>2300.61</td>\n",
       "      <td>4539</td>\n",
       "      <td>12331.83</td>\n",
       "      <td>79</td>\n",
       "      <td>5.360244</td>\n",
       "      <td>156.099114</td>\n",
       "      <td>1029</td>\n",
       "    </tr>\n",
       "    <tr>\n",
       "      <th>4</th>\n",
       "      <td>31/12/2022</td>\n",
       "      <td>12</td>\n",
       "      <td>2022</td>\n",
       "      <td>BOLSA</td>\n",
       "      <td>325.48</td>\n",
       "      <td>53</td>\n",
       "      <td>0.00</td>\n",
       "      <td>0</td>\n",
       "      <td>0.000000</td>\n",
       "      <td>0.000000</td>\n",
       "      <td>1004</td>\n",
       "    </tr>\n",
       "    <tr>\n",
       "      <th>6</th>\n",
       "      <td>31/12/2022</td>\n",
       "      <td>12</td>\n",
       "      <td>2022</td>\n",
       "      <td>CACHIMBO</td>\n",
       "      <td>452.57</td>\n",
       "      <td>189</td>\n",
       "      <td>2047.41</td>\n",
       "      <td>7</td>\n",
       "      <td>4.523963</td>\n",
       "      <td>292.487143</td>\n",
       "      <td>1006</td>\n",
       "    </tr>\n",
       "    <tr>\n",
       "      <th>7</th>\n",
       "      <td>31/12/2022</td>\n",
       "      <td>12</td>\n",
       "      <td>2022</td>\n",
       "      <td>CARRO</td>\n",
       "      <td>0.00</td>\n",
       "      <td>0</td>\n",
       "      <td>0.00</td>\n",
       "      <td>0</td>\n",
       "      <td>0.000000</td>\n",
       "      <td>0.000000</td>\n",
       "      <td>1009</td>\n",
       "    </tr>\n",
       "    <tr>\n",
       "      <th>9</th>\n",
       "      <td>31/12/2022</td>\n",
       "      <td>12</td>\n",
       "      <td>2022</td>\n",
       "      <td>LANTERNA</td>\n",
       "      <td>10311.37</td>\n",
       "      <td>8580</td>\n",
       "      <td>2972.11</td>\n",
       "      <td>1276</td>\n",
       "      <td>0.288236</td>\n",
       "      <td>2.329240</td>\n",
       "      <td>1016</td>\n",
       "    </tr>\n",
       "    <tr>\n",
       "      <th>...</th>\n",
       "      <td>...</td>\n",
       "      <td>...</td>\n",
       "      <td>...</td>\n",
       "      <td>...</td>\n",
       "      <td>...</td>\n",
       "      <td>...</td>\n",
       "      <td>...</td>\n",
       "      <td>...</td>\n",
       "      <td>...</td>\n",
       "      <td>...</td>\n",
       "      <td>...</td>\n",
       "    </tr>\n",
       "    <tr>\n",
       "      <th>6648</th>\n",
       "      <td>01/01/2022</td>\n",
       "      <td>1</td>\n",
       "      <td>2022</td>\n",
       "      <td>CARRO</td>\n",
       "      <td>0.00</td>\n",
       "      <td>0</td>\n",
       "      <td>0.00</td>\n",
       "      <td>0</td>\n",
       "      <td>0.000000</td>\n",
       "      <td>0.000000</td>\n",
       "      <td>1009</td>\n",
       "    </tr>\n",
       "    <tr>\n",
       "      <th>6652</th>\n",
       "      <td>01/01/2022</td>\n",
       "      <td>1</td>\n",
       "      <td>2022</td>\n",
       "      <td>MOEDA</td>\n",
       "      <td>446.66</td>\n",
       "      <td>0</td>\n",
       "      <td>3126.61</td>\n",
       "      <td>7</td>\n",
       "      <td>6.999978</td>\n",
       "      <td>446.658571</td>\n",
       "      <td>1020</td>\n",
       "    </tr>\n",
       "    <tr>\n",
       "      <th>6653</th>\n",
       "      <td>01/01/2022</td>\n",
       "      <td>1</td>\n",
       "      <td>2022</td>\n",
       "      <td>DISCO</td>\n",
       "      <td>23.00</td>\n",
       "      <td>116</td>\n",
       "      <td>5453.03</td>\n",
       "      <td>37</td>\n",
       "      <td>237.088261</td>\n",
       "      <td>147.379189</td>\n",
       "      <td>1014</td>\n",
       "    </tr>\n",
       "    <tr>\n",
       "      <th>6654</th>\n",
       "      <td>01/01/2022</td>\n",
       "      <td>1</td>\n",
       "      <td>2022</td>\n",
       "      <td>DADO</td>\n",
       "      <td>7534.58</td>\n",
       "      <td>3313</td>\n",
       "      <td>29114.52</td>\n",
       "      <td>458</td>\n",
       "      <td>3.864120</td>\n",
       "      <td>63.568821</td>\n",
       "      <td>1013</td>\n",
       "    </tr>\n",
       "    <tr>\n",
       "      <th>6655</th>\n",
       "      <td>01/01/2022</td>\n",
       "      <td>1</td>\n",
       "      <td>2022</td>\n",
       "      <td>CANETA</td>\n",
       "      <td>0.00</td>\n",
       "      <td>0</td>\n",
       "      <td>0.00</td>\n",
       "      <td>0</td>\n",
       "      <td>0.000000</td>\n",
       "      <td>0.000000</td>\n",
       "      <td>1008</td>\n",
       "    </tr>\n",
       "  </tbody>\n",
       "</table>\n",
       "<p>1907 rows × 11 columns</p>\n",
       "</div>"
      ],
      "text/plain": [
       "      data_venda  mes   ano    objeto  investido  cliques   receita  \\\n",
       "3     31/12/2022   12  2022    XADREZ    2300.61     4539  12331.83   \n",
       "4     31/12/2022   12  2022     BOLSA     325.48       53      0.00   \n",
       "6     31/12/2022   12  2022  CACHIMBO     452.57      189   2047.41   \n",
       "7     31/12/2022   12  2022     CARRO       0.00        0      0.00   \n",
       "9     31/12/2022   12  2022  LANTERNA   10311.37     8580   2972.11   \n",
       "...          ...  ...   ...       ...        ...      ...       ...   \n",
       "6648  01/01/2022    1  2022     CARRO       0.00        0      0.00   \n",
       "6652  01/01/2022    1  2022     MOEDA     446.66        0   3126.61   \n",
       "6653  01/01/2022    1  2022     DISCO      23.00      116   5453.03   \n",
       "6654  01/01/2022    1  2022      DADO    7534.58     3313  29114.52   \n",
       "6655  01/01/2022    1  2022    CANETA       0.00        0      0.00   \n",
       "\n",
       "      conversao        roas  ticket_medio   sku  \n",
       "3            79    5.360244    156.099114  1029  \n",
       "4             0    0.000000      0.000000  1004  \n",
       "6             7    4.523963    292.487143  1006  \n",
       "7             0    0.000000      0.000000  1009  \n",
       "9          1276    0.288236      2.329240  1016  \n",
       "...         ...         ...           ...   ...  \n",
       "6648          0    0.000000      0.000000  1009  \n",
       "6652          7    6.999978    446.658571  1020  \n",
       "6653         37  237.088261    147.379189  1014  \n",
       "6654        458    3.864120     63.568821  1013  \n",
       "6655          0    0.000000      0.000000  1008  \n",
       "\n",
       "[1907 rows x 11 columns]"
      ]
     },
     "execution_count": 36,
     "metadata": {},
     "output_type": "execute_result"
    }
   ],
   "source": [
    "dfv2"
   ]
  },
  {
   "cell_type": "code",
   "execution_count": 37,
   "id": "367f48188286bf42",
   "metadata": {
    "collapsed": false,
    "jupyter": {
     "outputs_hidden": false
    }
   },
   "outputs": [
    {
     "name": "stderr",
     "output_type": "stream",
     "text": [
      "/tmp/ipykernel_546073/2376853622.py:1: FutureWarning: Series.__getitem__ treating keys as positions is deprecated. In a future version, integer keys will always be treated as labels (consistent with DataFrame behavior). To access a value by position, use `ser.iloc[pos]`\n",
      "  dfv3.data_venda = dfv3[[\"data_venda\", \"mes\", \"ano\"]].apply(lambda x: f\"01/{x[1]}/{x[2]}\", axis=1)\n"
     ]
    }
   ],
   "source": [
    "dfv3.data_venda = dfv3[[\"data_venda\", \"mes\", \"ano\"]].apply(lambda x: f\"01/{x[1]}/{x[2]}\", axis=1)"
   ]
  },
  {
   "cell_type": "code",
   "execution_count": 38,
   "id": "2fbbc181719a4d9e",
   "metadata": {
    "collapsed": false,
    "jupyter": {
     "outputs_hidden": false
    }
   },
   "outputs": [
    {
     "data": {
      "text/html": [
       "<div>\n",
       "<style scoped>\n",
       "    .dataframe tbody tr th:only-of-type {\n",
       "        vertical-align: middle;\n",
       "    }\n",
       "\n",
       "    .dataframe tbody tr th {\n",
       "        vertical-align: top;\n",
       "    }\n",
       "\n",
       "    .dataframe thead th {\n",
       "        text-align: right;\n",
       "    }\n",
       "</style>\n",
       "<table border=\"1\" class=\"dataframe\">\n",
       "  <thead>\n",
       "    <tr style=\"text-align: right;\">\n",
       "      <th></th>\n",
       "      <th>data_venda</th>\n",
       "      <th>mes</th>\n",
       "      <th>ano</th>\n",
       "      <th>objeto</th>\n",
       "      <th>investido</th>\n",
       "      <th>cliques</th>\n",
       "      <th>receita</th>\n",
       "      <th>conversao</th>\n",
       "      <th>roas</th>\n",
       "      <th>ticket_medio</th>\n",
       "      <th>sku</th>\n",
       "    </tr>\n",
       "  </thead>\n",
       "  <tbody>\n",
       "  </tbody>\n",
       "</table>\n",
       "</div>"
      ],
      "text/plain": [
       "Empty DataFrame\n",
       "Columns: [data_venda, mes, ano, objeto, investido, cliques, receita, conversao, roas, ticket_medio, sku]\n",
       "Index: []"
      ]
     },
     "execution_count": 38,
     "metadata": {},
     "output_type": "execute_result"
    }
   ],
   "source": [
    "dfv3"
   ]
  },
  {
   "cell_type": "code",
   "execution_count": 39,
   "id": "d0ef5670beafe15",
   "metadata": {
    "collapsed": false,
    "jupyter": {
     "outputs_hidden": false
    }
   },
   "outputs": [],
   "source": [
    "dfv4 = pd.concat([dfv1, dfv2, dfv3], axis=0)"
   ]
  },
  {
   "cell_type": "code",
   "execution_count": 40,
   "id": "f873c91d15be9824",
   "metadata": {
    "collapsed": false,
    "jupyter": {
     "outputs_hidden": false
    }
   },
   "outputs": [],
   "source": [
    "\n",
    "dfv4.data_venda = dfv4.data_venda.apply(brute_parse_date)"
   ]
  },
  {
   "cell_type": "code",
   "execution_count": 41,
   "id": "380f3026d1f10c87",
   "metadata": {
    "collapsed": false,
    "jupyter": {
     "outputs_hidden": false
    }
   },
   "outputs": [
    {
     "data": {
      "text/html": [
       "<div>\n",
       "<style scoped>\n",
       "    .dataframe tbody tr th:only-of-type {\n",
       "        vertical-align: middle;\n",
       "    }\n",
       "\n",
       "    .dataframe tbody tr th {\n",
       "        vertical-align: top;\n",
       "    }\n",
       "\n",
       "    .dataframe thead th {\n",
       "        text-align: right;\n",
       "    }\n",
       "</style>\n",
       "<table border=\"1\" class=\"dataframe\">\n",
       "  <thead>\n",
       "    <tr style=\"text-align: right;\">\n",
       "      <th></th>\n",
       "      <th>data_venda</th>\n",
       "      <th>mes</th>\n",
       "      <th>ano</th>\n",
       "      <th>objeto</th>\n",
       "      <th>investido</th>\n",
       "      <th>cliques</th>\n",
       "      <th>receita</th>\n",
       "      <th>conversao</th>\n",
       "      <th>roas</th>\n",
       "      <th>ticket_medio</th>\n",
       "      <th>sku</th>\n",
       "    </tr>\n",
       "    <tr>\n",
       "      <th>data_venda</th>\n",
       "      <th></th>\n",
       "      <th></th>\n",
       "      <th></th>\n",
       "      <th></th>\n",
       "      <th></th>\n",
       "      <th></th>\n",
       "      <th></th>\n",
       "      <th></th>\n",
       "      <th></th>\n",
       "      <th></th>\n",
       "      <th></th>\n",
       "    </tr>\n",
       "  </thead>\n",
       "  <tbody>\n",
       "    <tr>\n",
       "      <th>2022</th>\n",
       "      <td>4744</td>\n",
       "      <td>4744</td>\n",
       "      <td>4744</td>\n",
       "      <td>4744</td>\n",
       "      <td>4744</td>\n",
       "      <td>4744</td>\n",
       "      <td>4744</td>\n",
       "      <td>4744</td>\n",
       "      <td>4744</td>\n",
       "      <td>4744</td>\n",
       "      <td>4744</td>\n",
       "    </tr>\n",
       "    <tr>\n",
       "      <th>2031</th>\n",
       "      <td>1</td>\n",
       "      <td>1</td>\n",
       "      <td>1</td>\n",
       "      <td>1</td>\n",
       "      <td>1</td>\n",
       "      <td>1</td>\n",
       "      <td>1</td>\n",
       "      <td>1</td>\n",
       "      <td>1</td>\n",
       "      <td>1</td>\n",
       "      <td>1</td>\n",
       "    </tr>\n",
       "  </tbody>\n",
       "</table>\n",
       "</div>"
      ],
      "text/plain": [
       "            data_venda   mes   ano  objeto  investido  cliques  receita  \\\n",
       "data_venda                                                                \n",
       "2022              4744  4744  4744    4744       4744     4744     4744   \n",
       "2031                 1     1     1       1          1        1        1   \n",
       "\n",
       "            conversao  roas  ticket_medio   sku  \n",
       "data_venda                                       \n",
       "2022             4744  4744          4744  4744  \n",
       "2031                1     1             1     1  "
      ]
     },
     "execution_count": 41,
     "metadata": {},
     "output_type": "execute_result"
    }
   ],
   "source": [
    "dfv4.groupby(dfv4.data_venda.dt.year).count()"
   ]
  },
  {
   "cell_type": "code",
   "execution_count": 42,
   "id": "953f14428f78f13f",
   "metadata": {
    "collapsed": false,
    "jupyter": {
     "outputs_hidden": false
    }
   },
   "outputs": [
    {
     "data": {
      "text/html": [
       "<div>\n",
       "<style scoped>\n",
       "    .dataframe tbody tr th:only-of-type {\n",
       "        vertical-align: middle;\n",
       "    }\n",
       "\n",
       "    .dataframe tbody tr th {\n",
       "        vertical-align: top;\n",
       "    }\n",
       "\n",
       "    .dataframe thead th {\n",
       "        text-align: right;\n",
       "    }\n",
       "</style>\n",
       "<table border=\"1\" class=\"dataframe\">\n",
       "  <thead>\n",
       "    <tr style=\"text-align: right;\">\n",
       "      <th></th>\n",
       "      <th>data_venda</th>\n",
       "      <th>mes</th>\n",
       "      <th>ano</th>\n",
       "      <th>objeto</th>\n",
       "      <th>investido</th>\n",
       "      <th>cliques</th>\n",
       "      <th>receita</th>\n",
       "      <th>conversao</th>\n",
       "      <th>roas</th>\n",
       "      <th>ticket_medio</th>\n",
       "      <th>sku</th>\n",
       "    </tr>\n",
       "  </thead>\n",
       "  <tbody>\n",
       "    <tr>\n",
       "      <th>1</th>\n",
       "      <td>2022-12-01</td>\n",
       "      <td>12</td>\n",
       "      <td>2022</td>\n",
       "      <td>APITO</td>\n",
       "      <td>48.97</td>\n",
       "      <td>84</td>\n",
       "      <td>400.95</td>\n",
       "      <td>1</td>\n",
       "      <td>8.187666</td>\n",
       "      <td>400.950000</td>\n",
       "      <td>1002</td>\n",
       "    </tr>\n",
       "    <tr>\n",
       "      <th>2</th>\n",
       "      <td>2022-12-01</td>\n",
       "      <td>12</td>\n",
       "      <td>2022</td>\n",
       "      <td>TELEVISÃO</td>\n",
       "      <td>74.97</td>\n",
       "      <td>23</td>\n",
       "      <td>0.00</td>\n",
       "      <td>0</td>\n",
       "      <td>0.000000</td>\n",
       "      <td>0.000000</td>\n",
       "      <td>1027</td>\n",
       "    </tr>\n",
       "    <tr>\n",
       "      <th>8</th>\n",
       "      <td>2022-12-01</td>\n",
       "      <td>12</td>\n",
       "      <td>2022</td>\n",
       "      <td>LIVRO</td>\n",
       "      <td>2022.46</td>\n",
       "      <td>3646</td>\n",
       "      <td>5069.58</td>\n",
       "      <td>16</td>\n",
       "      <td>2.506640</td>\n",
       "      <td>316.848750</td>\n",
       "      <td>1017</td>\n",
       "    </tr>\n",
       "    <tr>\n",
       "      <th>11</th>\n",
       "      <td>2022-12-31</td>\n",
       "      <td>12</td>\n",
       "      <td>2022</td>\n",
       "      <td>DISCO</td>\n",
       "      <td>1028.95</td>\n",
       "      <td>16922</td>\n",
       "      <td>5325.08</td>\n",
       "      <td>40</td>\n",
       "      <td>5.175256</td>\n",
       "      <td>133.127000</td>\n",
       "      <td>1014</td>\n",
       "    </tr>\n",
       "    <tr>\n",
       "      <th>14</th>\n",
       "      <td>2022-12-01</td>\n",
       "      <td>12</td>\n",
       "      <td>2022</td>\n",
       "      <td>AGULHA</td>\n",
       "      <td>283.24</td>\n",
       "      <td>1617</td>\n",
       "      <td>1760.37</td>\n",
       "      <td>31</td>\n",
       "      <td>6.215118</td>\n",
       "      <td>56.786129</td>\n",
       "      <td>1001</td>\n",
       "    </tr>\n",
       "    <tr>\n",
       "      <th>...</th>\n",
       "      <td>...</td>\n",
       "      <td>...</td>\n",
       "      <td>...</td>\n",
       "      <td>...</td>\n",
       "      <td>...</td>\n",
       "      <td>...</td>\n",
       "      <td>...</td>\n",
       "      <td>...</td>\n",
       "      <td>...</td>\n",
       "      <td>...</td>\n",
       "      <td>...</td>\n",
       "    </tr>\n",
       "    <tr>\n",
       "      <th>6648</th>\n",
       "      <td>2022-01-01</td>\n",
       "      <td>1</td>\n",
       "      <td>2022</td>\n",
       "      <td>CARRO</td>\n",
       "      <td>0.00</td>\n",
       "      <td>0</td>\n",
       "      <td>0.00</td>\n",
       "      <td>0</td>\n",
       "      <td>0.000000</td>\n",
       "      <td>0.000000</td>\n",
       "      <td>1009</td>\n",
       "    </tr>\n",
       "    <tr>\n",
       "      <th>6652</th>\n",
       "      <td>2022-01-01</td>\n",
       "      <td>1</td>\n",
       "      <td>2022</td>\n",
       "      <td>MOEDA</td>\n",
       "      <td>446.66</td>\n",
       "      <td>0</td>\n",
       "      <td>3126.61</td>\n",
       "      <td>7</td>\n",
       "      <td>6.999978</td>\n",
       "      <td>446.658571</td>\n",
       "      <td>1020</td>\n",
       "    </tr>\n",
       "    <tr>\n",
       "      <th>6653</th>\n",
       "      <td>2022-01-01</td>\n",
       "      <td>1</td>\n",
       "      <td>2022</td>\n",
       "      <td>DISCO</td>\n",
       "      <td>23.00</td>\n",
       "      <td>116</td>\n",
       "      <td>5453.03</td>\n",
       "      <td>37</td>\n",
       "      <td>237.088261</td>\n",
       "      <td>147.379189</td>\n",
       "      <td>1014</td>\n",
       "    </tr>\n",
       "    <tr>\n",
       "      <th>6654</th>\n",
       "      <td>2022-01-01</td>\n",
       "      <td>1</td>\n",
       "      <td>2022</td>\n",
       "      <td>DADO</td>\n",
       "      <td>7534.58</td>\n",
       "      <td>3313</td>\n",
       "      <td>29114.52</td>\n",
       "      <td>458</td>\n",
       "      <td>3.864120</td>\n",
       "      <td>63.568821</td>\n",
       "      <td>1013</td>\n",
       "    </tr>\n",
       "    <tr>\n",
       "      <th>6655</th>\n",
       "      <td>2022-01-01</td>\n",
       "      <td>1</td>\n",
       "      <td>2022</td>\n",
       "      <td>CANETA</td>\n",
       "      <td>0.00</td>\n",
       "      <td>0</td>\n",
       "      <td>0.00</td>\n",
       "      <td>0</td>\n",
       "      <td>0.000000</td>\n",
       "      <td>0.000000</td>\n",
       "      <td>1008</td>\n",
       "    </tr>\n",
       "  </tbody>\n",
       "</table>\n",
       "<p>4745 rows × 11 columns</p>\n",
       "</div>"
      ],
      "text/plain": [
       "     data_venda  mes   ano     objeto  investido  cliques   receita  \\\n",
       "1    2022-12-01   12  2022      APITO      48.97       84    400.95   \n",
       "2    2022-12-01   12  2022  TELEVISÃO      74.97       23      0.00   \n",
       "8    2022-12-01   12  2022      LIVRO    2022.46     3646   5069.58   \n",
       "11   2022-12-31   12  2022      DISCO    1028.95    16922   5325.08   \n",
       "14   2022-12-01   12  2022     AGULHA     283.24     1617   1760.37   \n",
       "...         ...  ...   ...        ...        ...      ...       ...   \n",
       "6648 2022-01-01    1  2022      CARRO       0.00        0      0.00   \n",
       "6652 2022-01-01    1  2022      MOEDA     446.66        0   3126.61   \n",
       "6653 2022-01-01    1  2022      DISCO      23.00      116   5453.03   \n",
       "6654 2022-01-01    1  2022       DADO    7534.58     3313  29114.52   \n",
       "6655 2022-01-01    1  2022     CANETA       0.00        0      0.00   \n",
       "\n",
       "      conversao        roas  ticket_medio   sku  \n",
       "1             1    8.187666    400.950000  1002  \n",
       "2             0    0.000000      0.000000  1027  \n",
       "8            16    2.506640    316.848750  1017  \n",
       "11           40    5.175256    133.127000  1014  \n",
       "14           31    6.215118     56.786129  1001  \n",
       "...         ...         ...           ...   ...  \n",
       "6648          0    0.000000      0.000000  1009  \n",
       "6652          7    6.999978    446.658571  1020  \n",
       "6653         37  237.088261    147.379189  1014  \n",
       "6654        458    3.864120     63.568821  1013  \n",
       "6655          0    0.000000      0.000000  1008  \n",
       "\n",
       "[4745 rows x 11 columns]"
      ]
     },
     "execution_count": 42,
     "metadata": {},
     "output_type": "execute_result"
    }
   ],
   "source": [
    "dfv4"
   ]
  },
  {
   "cell_type": "code",
   "execution_count": 43,
   "id": "6e4ad1bbf04181f5",
   "metadata": {
    "collapsed": false,
    "jupyter": {
     "outputs_hidden": false
    }
   },
   "outputs": [
    {
     "data": {
      "text/html": [
       "<div>\n",
       "<style scoped>\n",
       "    .dataframe tbody tr th:only-of-type {\n",
       "        vertical-align: middle;\n",
       "    }\n",
       "\n",
       "    .dataframe tbody tr th {\n",
       "        vertical-align: top;\n",
       "    }\n",
       "\n",
       "    .dataframe thead th {\n",
       "        text-align: right;\n",
       "    }\n",
       "</style>\n",
       "<table border=\"1\" class=\"dataframe\">\n",
       "  <thead>\n",
       "    <tr style=\"text-align: right;\">\n",
       "      <th></th>\n",
       "      <th>data_venda</th>\n",
       "      <th>mes</th>\n",
       "      <th>ano</th>\n",
       "      <th>objeto</th>\n",
       "      <th>investido</th>\n",
       "      <th>cliques</th>\n",
       "      <th>receita</th>\n",
       "      <th>conversao</th>\n",
       "      <th>roas</th>\n",
       "      <th>ticket_medio</th>\n",
       "      <th>sku</th>\n",
       "    </tr>\n",
       "  </thead>\n",
       "  <tbody>\n",
       "  </tbody>\n",
       "</table>\n",
       "</div>"
      ],
      "text/plain": [
       "Empty DataFrame\n",
       "Columns: [data_venda, mes, ano, objeto, investido, cliques, receita, conversao, roas, ticket_medio, sku]\n",
       "Index: []"
      ]
     },
     "execution_count": 43,
     "metadata": {},
     "output_type": "execute_result"
    }
   ],
   "source": [
    "dfv4.loc[dfv4.data_venda.dt.year == 2000]"
   ]
  },
  {
   "cell_type": "code",
   "execution_count": 44,
   "id": "340d3aa1c810485a",
   "metadata": {
    "collapsed": false,
    "jupyter": {
     "outputs_hidden": false
    }
   },
   "outputs": [],
   "source": [
    "dfv4.loc[dfv4.data_venda.dt.year == 2000, \"data_venda\"] = pd.to_datetime(\"2022-10-01\")"
   ]
  },
  {
   "cell_type": "code",
   "execution_count": 45,
   "id": "63622dd1f80ec26f",
   "metadata": {
    "collapsed": false,
    "jupyter": {
     "outputs_hidden": false
    }
   },
   "outputs": [
    {
     "data": {
      "text/html": [
       "<div>\n",
       "<style scoped>\n",
       "    .dataframe tbody tr th:only-of-type {\n",
       "        vertical-align: middle;\n",
       "    }\n",
       "\n",
       "    .dataframe tbody tr th {\n",
       "        vertical-align: top;\n",
       "    }\n",
       "\n",
       "    .dataframe thead th {\n",
       "        text-align: right;\n",
       "    }\n",
       "</style>\n",
       "<table border=\"1\" class=\"dataframe\">\n",
       "  <thead>\n",
       "    <tr style=\"text-align: right;\">\n",
       "      <th></th>\n",
       "      <th>data_venda</th>\n",
       "      <th>mes</th>\n",
       "      <th>ano</th>\n",
       "      <th>objeto</th>\n",
       "      <th>investido</th>\n",
       "      <th>cliques</th>\n",
       "      <th>receita</th>\n",
       "      <th>conversao</th>\n",
       "      <th>roas</th>\n",
       "      <th>ticket_medio</th>\n",
       "      <th>sku</th>\n",
       "    </tr>\n",
       "  </thead>\n",
       "  <tbody>\n",
       "    <tr>\n",
       "      <th>4639</th>\n",
       "      <td>2031-12-01</td>\n",
       "      <td>4</td>\n",
       "      <td>2022</td>\n",
       "      <td>TÊNIS</td>\n",
       "      <td>22833.33</td>\n",
       "      <td>5242</td>\n",
       "      <td>0.0</td>\n",
       "      <td>0</td>\n",
       "      <td>0.0</td>\n",
       "      <td>0.0</td>\n",
       "      <td>1028</td>\n",
       "    </tr>\n",
       "  </tbody>\n",
       "</table>\n",
       "</div>"
      ],
      "text/plain": [
       "     data_venda  mes   ano objeto  investido  cliques  receita  conversao  \\\n",
       "4639 2031-12-01    4  2022  TÊNIS   22833.33     5242      0.0          0   \n",
       "\n",
       "      roas  ticket_medio   sku  \n",
       "4639   0.0           0.0  1028  "
      ]
     },
     "execution_count": 45,
     "metadata": {},
     "output_type": "execute_result"
    }
   ],
   "source": [
    "dfv4.loc[dfv4.data_venda.dt.year == 2031]"
   ]
  },
  {
   "cell_type": "code",
   "execution_count": 46,
   "id": "d159fef2cfe5fd0e",
   "metadata": {
    "collapsed": false,
    "jupyter": {
     "outputs_hidden": false
    }
   },
   "outputs": [],
   "source": [
    "dfv4.loc[dfv4.data_venda.dt.year == 2031, \"data_venda\"] = pd.to_datetime(\"2022-04-01\")"
   ]
  },
  {
   "cell_type": "code",
   "execution_count": 47,
   "id": "20cc3c3540e75ad1",
   "metadata": {
    "collapsed": false,
    "jupyter": {
     "outputs_hidden": false
    }
   },
   "outputs": [
    {
     "data": {
      "text/html": [
       "<div>\n",
       "<style scoped>\n",
       "    .dataframe tbody tr th:only-of-type {\n",
       "        vertical-align: middle;\n",
       "    }\n",
       "\n",
       "    .dataframe tbody tr th {\n",
       "        vertical-align: top;\n",
       "    }\n",
       "\n",
       "    .dataframe thead th {\n",
       "        text-align: right;\n",
       "    }\n",
       "</style>\n",
       "<table border=\"1\" class=\"dataframe\">\n",
       "  <thead>\n",
       "    <tr style=\"text-align: right;\">\n",
       "      <th></th>\n",
       "      <th>data_venda</th>\n",
       "      <th>mes</th>\n",
       "      <th>ano</th>\n",
       "      <th>objeto</th>\n",
       "      <th>investido</th>\n",
       "      <th>cliques</th>\n",
       "      <th>receita</th>\n",
       "      <th>conversao</th>\n",
       "      <th>roas</th>\n",
       "      <th>ticket_medio</th>\n",
       "      <th>sku</th>\n",
       "    </tr>\n",
       "    <tr>\n",
       "      <th>data_venda</th>\n",
       "      <th></th>\n",
       "      <th></th>\n",
       "      <th></th>\n",
       "      <th></th>\n",
       "      <th></th>\n",
       "      <th></th>\n",
       "      <th></th>\n",
       "      <th></th>\n",
       "      <th></th>\n",
       "      <th></th>\n",
       "      <th></th>\n",
       "    </tr>\n",
       "  </thead>\n",
       "  <tbody>\n",
       "    <tr>\n",
       "      <th>2022</th>\n",
       "      <td>4745</td>\n",
       "      <td>4745</td>\n",
       "      <td>4745</td>\n",
       "      <td>4745</td>\n",
       "      <td>4745</td>\n",
       "      <td>4745</td>\n",
       "      <td>4745</td>\n",
       "      <td>4745</td>\n",
       "      <td>4745</td>\n",
       "      <td>4745</td>\n",
       "      <td>4745</td>\n",
       "    </tr>\n",
       "  </tbody>\n",
       "</table>\n",
       "</div>"
      ],
      "text/plain": [
       "            data_venda   mes   ano  objeto  investido  cliques  receita  \\\n",
       "data_venda                                                                \n",
       "2022              4745  4745  4745    4745       4745     4745     4745   \n",
       "\n",
       "            conversao  roas  ticket_medio   sku  \n",
       "data_venda                                       \n",
       "2022             4745  4745          4745  4745  "
      ]
     },
     "execution_count": 47,
     "metadata": {},
     "output_type": "execute_result"
    }
   ],
   "source": [
    "dfv4.groupby(dfv4.data_venda.dt.year).count()"
   ]
  },
  {
   "cell_type": "code",
   "execution_count": 48,
   "id": "5a65e0465a3541cb",
   "metadata": {
    "collapsed": false,
    "jupyter": {
     "outputs_hidden": false
    }
   },
   "outputs": [
    {
     "data": {
      "text/html": [
       "<div>\n",
       "<style scoped>\n",
       "    .dataframe tbody tr th:only-of-type {\n",
       "        vertical-align: middle;\n",
       "    }\n",
       "\n",
       "    .dataframe tbody tr th {\n",
       "        vertical-align: top;\n",
       "    }\n",
       "\n",
       "    .dataframe thead th {\n",
       "        text-align: right;\n",
       "    }\n",
       "</style>\n",
       "<table border=\"1\" class=\"dataframe\">\n",
       "  <thead>\n",
       "    <tr style=\"text-align: right;\">\n",
       "      <th></th>\n",
       "      <th>data_venda</th>\n",
       "      <th>mes</th>\n",
       "      <th>ano</th>\n",
       "      <th>objeto</th>\n",
       "      <th>investido</th>\n",
       "      <th>cliques</th>\n",
       "      <th>receita</th>\n",
       "      <th>conversao</th>\n",
       "      <th>roas</th>\n",
       "      <th>ticket_medio</th>\n",
       "      <th>sku</th>\n",
       "    </tr>\n",
       "  </thead>\n",
       "  <tbody>\n",
       "    <tr>\n",
       "      <th>1</th>\n",
       "      <td>2022-12-01</td>\n",
       "      <td>12</td>\n",
       "      <td>2022</td>\n",
       "      <td>APITO</td>\n",
       "      <td>48.97</td>\n",
       "      <td>84</td>\n",
       "      <td>400.95</td>\n",
       "      <td>1</td>\n",
       "      <td>8.187666</td>\n",
       "      <td>400.950000</td>\n",
       "      <td>1002</td>\n",
       "    </tr>\n",
       "    <tr>\n",
       "      <th>2</th>\n",
       "      <td>2022-12-01</td>\n",
       "      <td>12</td>\n",
       "      <td>2022</td>\n",
       "      <td>TELEVISÃO</td>\n",
       "      <td>74.97</td>\n",
       "      <td>23</td>\n",
       "      <td>0.00</td>\n",
       "      <td>0</td>\n",
       "      <td>0.000000</td>\n",
       "      <td>0.000000</td>\n",
       "      <td>1027</td>\n",
       "    </tr>\n",
       "    <tr>\n",
       "      <th>8</th>\n",
       "      <td>2022-12-01</td>\n",
       "      <td>12</td>\n",
       "      <td>2022</td>\n",
       "      <td>LIVRO</td>\n",
       "      <td>2022.46</td>\n",
       "      <td>3646</td>\n",
       "      <td>5069.58</td>\n",
       "      <td>16</td>\n",
       "      <td>2.506640</td>\n",
       "      <td>316.848750</td>\n",
       "      <td>1017</td>\n",
       "    </tr>\n",
       "    <tr>\n",
       "      <th>11</th>\n",
       "      <td>2022-12-31</td>\n",
       "      <td>12</td>\n",
       "      <td>2022</td>\n",
       "      <td>DISCO</td>\n",
       "      <td>1028.95</td>\n",
       "      <td>16922</td>\n",
       "      <td>5325.08</td>\n",
       "      <td>40</td>\n",
       "      <td>5.175256</td>\n",
       "      <td>133.127000</td>\n",
       "      <td>1014</td>\n",
       "    </tr>\n",
       "    <tr>\n",
       "      <th>14</th>\n",
       "      <td>2022-12-01</td>\n",
       "      <td>12</td>\n",
       "      <td>2022</td>\n",
       "      <td>AGULHA</td>\n",
       "      <td>283.24</td>\n",
       "      <td>1617</td>\n",
       "      <td>1760.37</td>\n",
       "      <td>31</td>\n",
       "      <td>6.215118</td>\n",
       "      <td>56.786129</td>\n",
       "      <td>1001</td>\n",
       "    </tr>\n",
       "    <tr>\n",
       "      <th>...</th>\n",
       "      <td>...</td>\n",
       "      <td>...</td>\n",
       "      <td>...</td>\n",
       "      <td>...</td>\n",
       "      <td>...</td>\n",
       "      <td>...</td>\n",
       "      <td>...</td>\n",
       "      <td>...</td>\n",
       "      <td>...</td>\n",
       "      <td>...</td>\n",
       "      <td>...</td>\n",
       "    </tr>\n",
       "    <tr>\n",
       "      <th>6648</th>\n",
       "      <td>2022-01-01</td>\n",
       "      <td>1</td>\n",
       "      <td>2022</td>\n",
       "      <td>CARRO</td>\n",
       "      <td>0.00</td>\n",
       "      <td>0</td>\n",
       "      <td>0.00</td>\n",
       "      <td>0</td>\n",
       "      <td>0.000000</td>\n",
       "      <td>0.000000</td>\n",
       "      <td>1009</td>\n",
       "    </tr>\n",
       "    <tr>\n",
       "      <th>6652</th>\n",
       "      <td>2022-01-01</td>\n",
       "      <td>1</td>\n",
       "      <td>2022</td>\n",
       "      <td>MOEDA</td>\n",
       "      <td>446.66</td>\n",
       "      <td>0</td>\n",
       "      <td>3126.61</td>\n",
       "      <td>7</td>\n",
       "      <td>6.999978</td>\n",
       "      <td>446.658571</td>\n",
       "      <td>1020</td>\n",
       "    </tr>\n",
       "    <tr>\n",
       "      <th>6653</th>\n",
       "      <td>2022-01-01</td>\n",
       "      <td>1</td>\n",
       "      <td>2022</td>\n",
       "      <td>DISCO</td>\n",
       "      <td>23.00</td>\n",
       "      <td>116</td>\n",
       "      <td>5453.03</td>\n",
       "      <td>37</td>\n",
       "      <td>237.088261</td>\n",
       "      <td>147.379189</td>\n",
       "      <td>1014</td>\n",
       "    </tr>\n",
       "    <tr>\n",
       "      <th>6654</th>\n",
       "      <td>2022-01-01</td>\n",
       "      <td>1</td>\n",
       "      <td>2022</td>\n",
       "      <td>DADO</td>\n",
       "      <td>7534.58</td>\n",
       "      <td>3313</td>\n",
       "      <td>29114.52</td>\n",
       "      <td>458</td>\n",
       "      <td>3.864120</td>\n",
       "      <td>63.568821</td>\n",
       "      <td>1013</td>\n",
       "    </tr>\n",
       "    <tr>\n",
       "      <th>6655</th>\n",
       "      <td>2022-01-01</td>\n",
       "      <td>1</td>\n",
       "      <td>2022</td>\n",
       "      <td>CANETA</td>\n",
       "      <td>0.00</td>\n",
       "      <td>0</td>\n",
       "      <td>0.00</td>\n",
       "      <td>0</td>\n",
       "      <td>0.000000</td>\n",
       "      <td>0.000000</td>\n",
       "      <td>1008</td>\n",
       "    </tr>\n",
       "  </tbody>\n",
       "</table>\n",
       "<p>4745 rows × 11 columns</p>\n",
       "</div>"
      ],
      "text/plain": [
       "     data_venda  mes   ano     objeto  investido  cliques   receita  \\\n",
       "1    2022-12-01   12  2022      APITO      48.97       84    400.95   \n",
       "2    2022-12-01   12  2022  TELEVISÃO      74.97       23      0.00   \n",
       "8    2022-12-01   12  2022      LIVRO    2022.46     3646   5069.58   \n",
       "11   2022-12-31   12  2022      DISCO    1028.95    16922   5325.08   \n",
       "14   2022-12-01   12  2022     AGULHA     283.24     1617   1760.37   \n",
       "...         ...  ...   ...        ...        ...      ...       ...   \n",
       "6648 2022-01-01    1  2022      CARRO       0.00        0      0.00   \n",
       "6652 2022-01-01    1  2022      MOEDA     446.66        0   3126.61   \n",
       "6653 2022-01-01    1  2022      DISCO      23.00      116   5453.03   \n",
       "6654 2022-01-01    1  2022       DADO    7534.58     3313  29114.52   \n",
       "6655 2022-01-01    1  2022     CANETA       0.00        0      0.00   \n",
       "\n",
       "      conversao        roas  ticket_medio   sku  \n",
       "1             1    8.187666    400.950000  1002  \n",
       "2             0    0.000000      0.000000  1027  \n",
       "8            16    2.506640    316.848750  1017  \n",
       "11           40    5.175256    133.127000  1014  \n",
       "14           31    6.215118     56.786129  1001  \n",
       "...         ...         ...           ...   ...  \n",
       "6648          0    0.000000      0.000000  1009  \n",
       "6652          7    6.999978    446.658571  1020  \n",
       "6653         37  237.088261    147.379189  1014  \n",
       "6654        458    3.864120     63.568821  1013  \n",
       "6655          0    0.000000      0.000000  1008  \n",
       "\n",
       "[4745 rows x 11 columns]"
      ]
     },
     "execution_count": 48,
     "metadata": {},
     "output_type": "execute_result"
    }
   ],
   "source": [
    "dfv4"
   ]
  },
  {
   "cell_type": "markdown",
   "id": "80b9513a50d203a5",
   "metadata": {
    "collapsed": false,
    "jupyter": {
     "outputs_hidden": false
    }
   },
   "source": [
    "# Dataframe Limpo\n",
    "\n",
    "Com o estado atual dos dados posso então realziar a analise.\n",
    "\n",
    "Questões:\n",
    "1. Quais os 5 melhores produtos em termos de faturamento (Receita) - por mês;\n",
    "2. Quais os top 5 produtos que menos trazem cliques para o site, por mês?\n",
    "3. Quais 5 produtos tem o melhor valor médio (Receita) por transação - no ano;\n",
    "4. Existe algum outro insight, positivo ou negativo, que vale ser destacado?\n"
   ]
  },
  {
   "cell_type": "markdown",
   "id": "9c2d08cb6a276eae",
   "metadata": {
    "collapsed": false,
    "jupyter": {
     "outputs_hidden": false
    }
   },
   "source": [
    "### Q1: Quais os 5 melhores produtos em termos de faturamento (Receita) - por mês;"
   ]
  },
  {
   "cell_type": "code",
   "execution_count": 49,
   "id": "edd4cf6ce1a0c93b",
   "metadata": {
    "collapsed": false,
    "jupyter": {
     "outputs_hidden": false
    }
   },
   "outputs": [
    {
     "data": {
      "text/plain": [
       "data_venda  data_venda  objeto  \n",
       "2022        1           CELULAR     22618391.67\n",
       "                        DISCO        7933086.75\n",
       "                        XADREZ       4765995.22\n",
       "                        BOTA         3985218.32\n",
       "                        DADO         2461920.37\n",
       "            2           CELULAR      2446880.84\n",
       "                        DISCO        2072043.61\n",
       "                        XADREZ        689151.36\n",
       "                        DADO          453290.12\n",
       "                        LANTERNA      410740.12\n",
       "            3           CELULAR      2178334.00\n",
       "                        DISCO        1553005.19\n",
       "                        XADREZ        995815.66\n",
       "                        DADO          454631.46\n",
       "                        LANTERNA      441417.40\n",
       "            4           CELULAR      2842073.10\n",
       "                        DISCO        1159961.20\n",
       "                        XADREZ        912481.70\n",
       "                        DADO          560910.92\n",
       "                        BOTA          489441.16\n",
       "            5           CELULAR      2788723.40\n",
       "                        DISCO        1326968.70\n",
       "                        XADREZ        818529.49\n",
       "                        BOTA          678558.93\n",
       "                        MOCHILA       442018.05\n",
       "            6           CELULAR      3870205.30\n",
       "                        DISCO        1526536.63\n",
       "                        XADREZ        909253.40\n",
       "                        MOCHILA       517413.24\n",
       "                        DADO          494354.85\n",
       "            7           CELULAR      5174363.20\n",
       "                        DISCO        1633145.20\n",
       "                        BOTA         1202437.63\n",
       "                        XADREZ        975118.94\n",
       "                        AGULHA        901037.74\n",
       "            8           CELULAR      5702284.80\n",
       "                        DISCO        1562737.05\n",
       "                        XADREZ       1180695.56\n",
       "                        DADO          521424.70\n",
       "                        BOTA          513917.02\n",
       "            9           CELULAR      3152946.00\n",
       "                        DISCO        1799034.04\n",
       "                        XADREZ       1062514.11\n",
       "                        BOTA          680806.95\n",
       "                        MOCHILA       418542.92\n",
       "            10          CELULAR      3227134.80\n",
       "                        DISCO        2282723.35\n",
       "                        XADREZ        850161.43\n",
       "                        BOTA          528004.27\n",
       "                        LANTERNA      279778.62\n",
       "            11          CELULAR     11266816.70\n",
       "                        DISCO        3208325.70\n",
       "                        XADREZ       2031048.40\n",
       "                        BOTA         1061364.18\n",
       "                        MOCHILA       599807.37\n",
       "            12          CELULAR      4321265.60\n",
       "                        DISCO        1644924.26\n",
       "                        BOTA          803448.79\n",
       "                        XADREZ        541300.35\n",
       "                        MOCHILA       465451.65\n",
       "Name: receita, dtype: float64"
      ]
     },
     "execution_count": 49,
     "metadata": {},
     "output_type": "execute_result"
    }
   ],
   "source": [
    "dfq1 = dfv4.groupby([dfv4.data_venda.dt.year, dfv4.data_venda.dt.month, dfv4.objeto ]).receita.sum()\n",
    "dfq1.groupby(level=[0,1], group_keys=False).nlargest(5)"
   ]
  },
  {
   "cell_type": "markdown",
   "id": "8c7d3c35277ce533",
   "metadata": {
    "collapsed": false,
    "jupyter": {
     "outputs_hidden": false
    }
   },
   "source": [
    "### Q2: Quais os top 5 produtos que menos trazem cliques para o site, por mês?"
   ]
  },
  {
   "cell_type": "code",
   "execution_count": 50,
   "id": "7cee16ea2d9c1ea9",
   "metadata": {
    "collapsed": false,
    "jupyter": {
     "outputs_hidden": false
    }
   },
   "outputs": [
    {
     "data": {
      "text/plain": [
       "data_venda  data_venda  objeto   \n",
       "2022        1           CANETA         994\n",
       "                        BOLSA         1615\n",
       "                        MOUSE         2556\n",
       "                        TELEVISÃO     3573\n",
       "                        APITO        11378\n",
       "            2           BICICLETA        4\n",
       "                        CANETA          35\n",
       "                        TELEVISÃO       70\n",
       "                        ÓCULOS         553\n",
       "                        MOUSE         1333\n",
       "            3           TECLADO         78\n",
       "                        TELEVISÃO      236\n",
       "                        MOUSE          921\n",
       "                        CACHIMBO      2714\n",
       "                        APITO         2834\n",
       "            4           TELEVISÃO      103\n",
       "                        BICICLETA      301\n",
       "                        MOUSE          418\n",
       "                        CACHIMBO       984\n",
       "                        APITO         1707\n",
       "            5           MOUSE          206\n",
       "                        TELEVISÃO      527\n",
       "                        CANETA        1202\n",
       "                        ÓCULOS        1602\n",
       "                        APITO         2163\n",
       "            6           TECLADO         82\n",
       "                        MOUSE          199\n",
       "                        BICICLETA      232\n",
       "                        TELEVISÃO      395\n",
       "                        ÓCULOS        1030\n",
       "            7           MOUSE           46\n",
       "                        TELEVISÃO      579\n",
       "                        XÍCARA        2358\n",
       "                        APITO         2696\n",
       "                        BICICLETA     4957\n",
       "            8           MOUSE           74\n",
       "                        CANETA         220\n",
       "                        TELEVISÃO     1511\n",
       "                        XÍCARA        1638\n",
       "                        APITO         1929\n",
       "            9           MOUSE          197\n",
       "                        AGULHA        1298\n",
       "                        TELEVISÃO     1349\n",
       "                        ÓCULOS        1696\n",
       "                        APITO         2322\n",
       "            10          CANETA         103\n",
       "                        BOLSA          110\n",
       "                        MOUSE          130\n",
       "                        TELEVISÃO     1567\n",
       "                        XÍCARA        2011\n",
       "            11          CANETA         150\n",
       "                        TELEVISÃO      813\n",
       "                        BOLSA         1336\n",
       "                        XÍCARA        1583\n",
       "                        APITO         3431\n",
       "            12          MOUSE           71\n",
       "                        TECLADO         71\n",
       "                        BOLSA          672\n",
       "                        TELEVISÃO     1108\n",
       "                        XÍCARA        1845\n",
       "Name: cliques, dtype: int64"
      ]
     },
     "execution_count": 50,
     "metadata": {},
     "output_type": "execute_result"
    }
   ],
   "source": [
    "# Resposta a Q2\n",
    "dfq2_a = dfv4.loc[dfv4.cliques > 0].groupby([dfv4.data_venda.dt.year, dfv4.data_venda.dt.month, dfv4.objeto ]).cliques.sum()\n",
    "dfq2_a.groupby(level=[0,1], group_keys=False).nsmallest(5)"
   ]
  },
  {
   "cell_type": "code",
   "execution_count": 51,
   "id": "476d1e4d32d7326f",
   "metadata": {
    "collapsed": false,
    "jupyter": {
     "outputs_hidden": false
    }
   },
   "outputs": [
    {
     "data": {
      "text/plain": [
       "data_venda  data_venda  objeto        \n",
       "2022        1           CACHIMBO          0\n",
       "                        CANETA            0\n",
       "                        CARRO             0\n",
       "                        FONE DE OUVIDO    0\n",
       "                        MOEDA             0\n",
       "                                         ..\n",
       "            12          CARRO             0\n",
       "                        FONE DE OUVIDO    0\n",
       "                        MOEDA             0\n",
       "                        RÁDIO             0\n",
       "                        ÓCULOS            0\n",
       "Name: cliques, Length: 79, dtype: int64"
      ]
     },
     "execution_count": 51,
     "metadata": {},
     "output_type": "execute_result"
    }
   ],
   "source": [
    "# Ainda respondendo à Q2: Estes itens não trouxeram nenhum clique para o site.\n",
    "\n",
    "dfq2_b = dfv4.loc[dfv4.cliques == 0].groupby([dfv4.data_venda.dt.year, dfv4.data_venda.dt.month, dfv4.objeto ]).cliques.sum()\n",
    "dfq2_b"
   ]
  },
  {
   "cell_type": "markdown",
   "id": "989dcd0aa7088dec",
   "metadata": {
    "collapsed": false,
    "jupyter": {
     "outputs_hidden": false
    }
   },
   "source": [
    "### Q3: Quais 5 produtos tem o melhor valor médio (Receita) por transação - no ano;\n"
   ]
  },
  {
   "cell_type": "code",
   "execution_count": 52,
   "id": "e89748329b37b877",
   "metadata": {
    "collapsed": false,
    "jupyter": {
     "outputs_hidden": false
    }
   },
   "outputs": [
    {
     "data": {
      "text/html": [
       "<div>\n",
       "<style scoped>\n",
       "    .dataframe tbody tr th:only-of-type {\n",
       "        vertical-align: middle;\n",
       "    }\n",
       "\n",
       "    .dataframe tbody tr th {\n",
       "        vertical-align: top;\n",
       "    }\n",
       "\n",
       "    .dataframe thead th {\n",
       "        text-align: right;\n",
       "    }\n",
       "</style>\n",
       "<table border=\"1\" class=\"dataframe\">\n",
       "  <thead>\n",
       "    <tr style=\"text-align: right;\">\n",
       "      <th></th>\n",
       "      <th>data_venda</th>\n",
       "      <th>mes</th>\n",
       "      <th>ano</th>\n",
       "      <th>objeto</th>\n",
       "      <th>investido</th>\n",
       "      <th>cliques</th>\n",
       "      <th>receita</th>\n",
       "      <th>conversao</th>\n",
       "      <th>roas</th>\n",
       "      <th>ticket_medio</th>\n",
       "      <th>sku</th>\n",
       "    </tr>\n",
       "  </thead>\n",
       "  <tbody>\n",
       "    <tr>\n",
       "      <th>1</th>\n",
       "      <td>2022-12-01</td>\n",
       "      <td>12</td>\n",
       "      <td>2022</td>\n",
       "      <td>APITO</td>\n",
       "      <td>48.97</td>\n",
       "      <td>84</td>\n",
       "      <td>400.95</td>\n",
       "      <td>1</td>\n",
       "      <td>8.187666</td>\n",
       "      <td>400.950000</td>\n",
       "      <td>1002</td>\n",
       "    </tr>\n",
       "    <tr>\n",
       "      <th>2</th>\n",
       "      <td>2022-12-01</td>\n",
       "      <td>12</td>\n",
       "      <td>2022</td>\n",
       "      <td>TELEVISÃO</td>\n",
       "      <td>74.97</td>\n",
       "      <td>23</td>\n",
       "      <td>0.00</td>\n",
       "      <td>0</td>\n",
       "      <td>0.000000</td>\n",
       "      <td>0.000000</td>\n",
       "      <td>1027</td>\n",
       "    </tr>\n",
       "    <tr>\n",
       "      <th>8</th>\n",
       "      <td>2022-12-01</td>\n",
       "      <td>12</td>\n",
       "      <td>2022</td>\n",
       "      <td>LIVRO</td>\n",
       "      <td>2022.46</td>\n",
       "      <td>3646</td>\n",
       "      <td>5069.58</td>\n",
       "      <td>16</td>\n",
       "      <td>2.506640</td>\n",
       "      <td>316.848750</td>\n",
       "      <td>1017</td>\n",
       "    </tr>\n",
       "    <tr>\n",
       "      <th>11</th>\n",
       "      <td>2022-12-31</td>\n",
       "      <td>12</td>\n",
       "      <td>2022</td>\n",
       "      <td>DISCO</td>\n",
       "      <td>1028.95</td>\n",
       "      <td>16922</td>\n",
       "      <td>5325.08</td>\n",
       "      <td>40</td>\n",
       "      <td>5.175256</td>\n",
       "      <td>133.127000</td>\n",
       "      <td>1014</td>\n",
       "    </tr>\n",
       "    <tr>\n",
       "      <th>14</th>\n",
       "      <td>2022-12-01</td>\n",
       "      <td>12</td>\n",
       "      <td>2022</td>\n",
       "      <td>AGULHA</td>\n",
       "      <td>283.24</td>\n",
       "      <td>1617</td>\n",
       "      <td>1760.37</td>\n",
       "      <td>31</td>\n",
       "      <td>6.215118</td>\n",
       "      <td>56.786129</td>\n",
       "      <td>1001</td>\n",
       "    </tr>\n",
       "    <tr>\n",
       "      <th>...</th>\n",
       "      <td>...</td>\n",
       "      <td>...</td>\n",
       "      <td>...</td>\n",
       "      <td>...</td>\n",
       "      <td>...</td>\n",
       "      <td>...</td>\n",
       "      <td>...</td>\n",
       "      <td>...</td>\n",
       "      <td>...</td>\n",
       "      <td>...</td>\n",
       "      <td>...</td>\n",
       "    </tr>\n",
       "    <tr>\n",
       "      <th>6648</th>\n",
       "      <td>2022-01-01</td>\n",
       "      <td>1</td>\n",
       "      <td>2022</td>\n",
       "      <td>CARRO</td>\n",
       "      <td>0.00</td>\n",
       "      <td>0</td>\n",
       "      <td>0.00</td>\n",
       "      <td>0</td>\n",
       "      <td>0.000000</td>\n",
       "      <td>0.000000</td>\n",
       "      <td>1009</td>\n",
       "    </tr>\n",
       "    <tr>\n",
       "      <th>6652</th>\n",
       "      <td>2022-01-01</td>\n",
       "      <td>1</td>\n",
       "      <td>2022</td>\n",
       "      <td>MOEDA</td>\n",
       "      <td>446.66</td>\n",
       "      <td>0</td>\n",
       "      <td>3126.61</td>\n",
       "      <td>7</td>\n",
       "      <td>6.999978</td>\n",
       "      <td>446.658571</td>\n",
       "      <td>1020</td>\n",
       "    </tr>\n",
       "    <tr>\n",
       "      <th>6653</th>\n",
       "      <td>2022-01-01</td>\n",
       "      <td>1</td>\n",
       "      <td>2022</td>\n",
       "      <td>DISCO</td>\n",
       "      <td>23.00</td>\n",
       "      <td>116</td>\n",
       "      <td>5453.03</td>\n",
       "      <td>37</td>\n",
       "      <td>237.088261</td>\n",
       "      <td>147.379189</td>\n",
       "      <td>1014</td>\n",
       "    </tr>\n",
       "    <tr>\n",
       "      <th>6654</th>\n",
       "      <td>2022-01-01</td>\n",
       "      <td>1</td>\n",
       "      <td>2022</td>\n",
       "      <td>DADO</td>\n",
       "      <td>7534.58</td>\n",
       "      <td>3313</td>\n",
       "      <td>29114.52</td>\n",
       "      <td>458</td>\n",
       "      <td>3.864120</td>\n",
       "      <td>63.568821</td>\n",
       "      <td>1013</td>\n",
       "    </tr>\n",
       "    <tr>\n",
       "      <th>6655</th>\n",
       "      <td>2022-01-01</td>\n",
       "      <td>1</td>\n",
       "      <td>2022</td>\n",
       "      <td>CANETA</td>\n",
       "      <td>0.00</td>\n",
       "      <td>0</td>\n",
       "      <td>0.00</td>\n",
       "      <td>0</td>\n",
       "      <td>0.000000</td>\n",
       "      <td>0.000000</td>\n",
       "      <td>1008</td>\n",
       "    </tr>\n",
       "  </tbody>\n",
       "</table>\n",
       "<p>4745 rows × 11 columns</p>\n",
       "</div>"
      ],
      "text/plain": [
       "     data_venda  mes   ano     objeto  investido  cliques   receita  \\\n",
       "1    2022-12-01   12  2022      APITO      48.97       84    400.95   \n",
       "2    2022-12-01   12  2022  TELEVISÃO      74.97       23      0.00   \n",
       "8    2022-12-01   12  2022      LIVRO    2022.46     3646   5069.58   \n",
       "11   2022-12-31   12  2022      DISCO    1028.95    16922   5325.08   \n",
       "14   2022-12-01   12  2022     AGULHA     283.24     1617   1760.37   \n",
       "...         ...  ...   ...        ...        ...      ...       ...   \n",
       "6648 2022-01-01    1  2022      CARRO       0.00        0      0.00   \n",
       "6652 2022-01-01    1  2022      MOEDA     446.66        0   3126.61   \n",
       "6653 2022-01-01    1  2022      DISCO      23.00      116   5453.03   \n",
       "6654 2022-01-01    1  2022       DADO    7534.58     3313  29114.52   \n",
       "6655 2022-01-01    1  2022     CANETA       0.00        0      0.00   \n",
       "\n",
       "      conversao        roas  ticket_medio   sku  \n",
       "1             1    8.187666    400.950000  1002  \n",
       "2             0    0.000000      0.000000  1027  \n",
       "8            16    2.506640    316.848750  1017  \n",
       "11           40    5.175256    133.127000  1014  \n",
       "14           31    6.215118     56.786129  1001  \n",
       "...         ...         ...           ...   ...  \n",
       "6648          0    0.000000      0.000000  1009  \n",
       "6652          7    6.999978    446.658571  1020  \n",
       "6653         37  237.088261    147.379189  1014  \n",
       "6654        458    3.864120     63.568821  1013  \n",
       "6655          0    0.000000      0.000000  1008  \n",
       "\n",
       "[4745 rows x 11 columns]"
      ]
     },
     "execution_count": 52,
     "metadata": {},
     "output_type": "execute_result"
    }
   ],
   "source": [
    "dfv4"
   ]
  },
  {
   "cell_type": "code",
   "execution_count": 53,
   "id": "869a4fb47c9e4b6a",
   "metadata": {
    "collapsed": false,
    "jupyter": {
     "outputs_hidden": false
    }
   },
   "outputs": [
    {
     "data": {
      "text/html": [
       "<div>\n",
       "<style scoped>\n",
       "    .dataframe tbody tr th:only-of-type {\n",
       "        vertical-align: middle;\n",
       "    }\n",
       "\n",
       "    .dataframe tbody tr th {\n",
       "        vertical-align: top;\n",
       "    }\n",
       "\n",
       "    .dataframe thead th {\n",
       "        text-align: right;\n",
       "    }\n",
       "</style>\n",
       "<table border=\"1\" class=\"dataframe\">\n",
       "  <thead>\n",
       "    <tr style=\"text-align: right;\">\n",
       "      <th></th>\n",
       "      <th>data_venda</th>\n",
       "      <th>mes</th>\n",
       "      <th>ano</th>\n",
       "      <th>objeto</th>\n",
       "      <th>investido</th>\n",
       "      <th>cliques</th>\n",
       "      <th>receita</th>\n",
       "      <th>conversao</th>\n",
       "      <th>roas</th>\n",
       "      <th>ticket_medio</th>\n",
       "      <th>sku</th>\n",
       "    </tr>\n",
       "  </thead>\n",
       "  <tbody>\n",
       "    <tr>\n",
       "      <th>4458</th>\n",
       "      <td>2022-05-07</td>\n",
       "      <td>5</td>\n",
       "      <td>2022</td>\n",
       "      <td>MOEDA</td>\n",
       "      <td>463.99</td>\n",
       "      <td>0</td>\n",
       "      <td>3247.95</td>\n",
       "      <td>10</td>\n",
       "      <td>7.000043</td>\n",
       "      <td>324.795</td>\n",
       "      <td>1020</td>\n",
       "    </tr>\n",
       "  </tbody>\n",
       "</table>\n",
       "</div>"
      ],
      "text/plain": [
       "     data_venda  mes   ano objeto  investido  cliques  receita  conversao  \\\n",
       "4458 2022-05-07    5  2022  MOEDA     463.99        0  3247.95         10   \n",
       "\n",
       "          roas  ticket_medio   sku  \n",
       "4458  7.000043       324.795  1020  "
      ]
     },
     "execution_count": 53,
     "metadata": {},
     "output_type": "execute_result"
    }
   ],
   "source": [
    "# apenas checar para ver se o valor do ticket_medio foi calculado corretamente\n",
    "dfv4.loc[dfv4.conversao > 0].loc[(round(dfv4.ticket_medio, 2)/ round(dfv4.receita / dfv4.conversao, 2)) - 1 > 0.00001]\n",
    "\n"
   ]
  },
  {
   "cell_type": "code",
   "execution_count": 54,
   "id": "46ad2718853b431c",
   "metadata": {
    "collapsed": false,
    "jupyter": {
     "outputs_hidden": false
    }
   },
   "outputs": [
    {
     "data": {
      "text/html": [
       "<div>\n",
       "<style scoped>\n",
       "    .dataframe tbody tr th:only-of-type {\n",
       "        vertical-align: middle;\n",
       "    }\n",
       "\n",
       "    .dataframe tbody tr th {\n",
       "        vertical-align: top;\n",
       "    }\n",
       "\n",
       "    .dataframe thead th {\n",
       "        text-align: right;\n",
       "    }\n",
       "</style>\n",
       "<table border=\"1\" class=\"dataframe\">\n",
       "  <thead>\n",
       "    <tr style=\"text-align: right;\">\n",
       "      <th></th>\n",
       "      <th>data_venda</th>\n",
       "      <th>mes</th>\n",
       "      <th>ano</th>\n",
       "      <th>objeto</th>\n",
       "      <th>investido</th>\n",
       "      <th>cliques</th>\n",
       "      <th>receita</th>\n",
       "      <th>conversao</th>\n",
       "      <th>roas</th>\n",
       "      <th>ticket_medio</th>\n",
       "      <th>sku</th>\n",
       "    </tr>\n",
       "  </thead>\n",
       "  <tbody>\n",
       "    <tr>\n",
       "      <th>3080</th>\n",
       "      <td>2022-01-01</td>\n",
       "      <td>7</td>\n",
       "      <td>2022</td>\n",
       "      <td>MOEDA</td>\n",
       "      <td>446.93</td>\n",
       "      <td>0</td>\n",
       "      <td>2817.05</td>\n",
       "      <td>10</td>\n",
       "      <td>6.303112</td>\n",
       "      <td>281.705</td>\n",
       "      <td>1020</td>\n",
       "    </tr>\n",
       "  </tbody>\n",
       "</table>\n",
       "</div>"
      ],
      "text/plain": [
       "     data_venda  mes   ano objeto  investido  cliques  receita  conversao  \\\n",
       "3080 2022-01-01    7  2022  MOEDA     446.93        0  2817.05         10   \n",
       "\n",
       "          roas  ticket_medio   sku  \n",
       "3080  6.303112       281.705  1020  "
      ]
     },
     "execution_count": 54,
     "metadata": {},
     "output_type": "execute_result"
    }
   ],
   "source": [
    "dfv4.loc[dfv4.conversao > 0].loc[( round(dfv4.receita / dfv4.conversao, 2) / round(dfv4.ticket_medio, 2)) - 1 > 0.00001]"
   ]
  },
  {
   "cell_type": "code",
   "execution_count": 55,
   "id": "3174d4ec11295b9b",
   "metadata": {
    "collapsed": false,
    "jupyter": {
     "outputs_hidden": false
    }
   },
   "outputs": [],
   "source": [
    "\n",
    "dfq3 = pd.DataFrame(dfv4.groupby([dfv4.data_venda.dt.year, dfv4.objeto ])[[\"receita\", \"conversao\"]].sum())\n",
    "\n",
    "dfq3 = dfq3.loc[dfq3.conversao > 0]"
   ]
  },
  {
   "cell_type": "code",
   "execution_count": 56,
   "id": "96cd6fe5024a5635",
   "metadata": {
    "collapsed": false,
    "jupyter": {
     "outputs_hidden": false
    }
   },
   "outputs": [],
   "source": [
    "dfq3[\"ticket_medio_anual\"] = dfq3.receita / dfq3.conversao"
   ]
  },
  {
   "cell_type": "code",
   "execution_count": 57,
   "id": "bed1f64bac165bfc",
   "metadata": {
    "collapsed": false,
    "jupyter": {
     "outputs_hidden": false
    }
   },
   "outputs": [
    {
     "data": {
      "text/html": [
       "<div>\n",
       "<style scoped>\n",
       "    .dataframe tbody tr th:only-of-type {\n",
       "        vertical-align: middle;\n",
       "    }\n",
       "\n",
       "    .dataframe tbody tr th {\n",
       "        vertical-align: top;\n",
       "    }\n",
       "\n",
       "    .dataframe thead th {\n",
       "        text-align: right;\n",
       "    }\n",
       "</style>\n",
       "<table border=\"1\" class=\"dataframe\">\n",
       "  <thead>\n",
       "    <tr style=\"text-align: right;\">\n",
       "      <th></th>\n",
       "      <th></th>\n",
       "      <th>receita</th>\n",
       "      <th>conversao</th>\n",
       "      <th>ticket_medio_anual</th>\n",
       "    </tr>\n",
       "    <tr>\n",
       "      <th>data_venda</th>\n",
       "      <th>objeto</th>\n",
       "      <th></th>\n",
       "      <th></th>\n",
       "      <th></th>\n",
       "    </tr>\n",
       "  </thead>\n",
       "  <tbody>\n",
       "    <tr>\n",
       "      <th rowspan=\"5\" valign=\"top\">2022</th>\n",
       "      <th>APITO</th>\n",
       "      <td>168371.05</td>\n",
       "      <td>449</td>\n",
       "      <td>374.991203</td>\n",
       "    </tr>\n",
       "    <tr>\n",
       "      <th>CANETA</th>\n",
       "      <td>18375.76</td>\n",
       "      <td>60</td>\n",
       "      <td>306.262667</td>\n",
       "    </tr>\n",
       "    <tr>\n",
       "      <th>LIVRO</th>\n",
       "      <td>1709006.92</td>\n",
       "      <td>5925</td>\n",
       "      <td>288.439986</td>\n",
       "    </tr>\n",
       "    <tr>\n",
       "      <th>MOEDA</th>\n",
       "      <td>1162106.76</td>\n",
       "      <td>4850</td>\n",
       "      <td>239.609641</td>\n",
       "    </tr>\n",
       "    <tr>\n",
       "      <th>CACHIMBO</th>\n",
       "      <td>1127055.44</td>\n",
       "      <td>5034</td>\n",
       "      <td>223.888645</td>\n",
       "    </tr>\n",
       "  </tbody>\n",
       "</table>\n",
       "</div>"
      ],
      "text/plain": [
       "                        receita  conversao  ticket_medio_anual\n",
       "data_venda objeto                                             \n",
       "2022       APITO      168371.05        449          374.991203\n",
       "           CANETA      18375.76         60          306.262667\n",
       "           LIVRO     1709006.92       5925          288.439986\n",
       "           MOEDA     1162106.76       4850          239.609641\n",
       "           CACHIMBO  1127055.44       5034          223.888645"
      ]
     },
     "execution_count": 57,
     "metadata": {},
     "output_type": "execute_result"
    }
   ],
   "source": [
    "# Resposta Q3\n",
    "\n",
    "dfq3.nlargest(5, \"ticket_medio_anual\")"
   ]
  },
  {
   "cell_type": "markdown",
   "id": "98d9f0196135aa6a",
   "metadata": {
    "collapsed": false,
    "jupyter": {
     "outputs_hidden": false
    }
   },
   "source": [
    "### Q4: Existe algum outro insight, positivo ou negativo, que vale ser destacado?\n",
    "\n",
    "- "
   ]
  },
  {
   "cell_type": "code",
   "execution_count": 58,
   "id": "c00a70f710241785",
   "metadata": {
    "collapsed": false,
    "jupyter": {
     "outputs_hidden": false
    }
   },
   "outputs": [
    {
     "data": {
      "text/html": [
       "<div>\n",
       "<style scoped>\n",
       "    .dataframe tbody tr th:only-of-type {\n",
       "        vertical-align: middle;\n",
       "    }\n",
       "\n",
       "    .dataframe tbody tr th {\n",
       "        vertical-align: top;\n",
       "    }\n",
       "\n",
       "    .dataframe thead th {\n",
       "        text-align: right;\n",
       "    }\n",
       "</style>\n",
       "<table border=\"1\" class=\"dataframe\">\n",
       "  <thead>\n",
       "    <tr style=\"text-align: right;\">\n",
       "      <th></th>\n",
       "      <th></th>\n",
       "      <th>investido</th>\n",
       "      <th>receita</th>\n",
       "      <th>roas_anual</th>\n",
       "    </tr>\n",
       "    <tr>\n",
       "      <th>data_venda</th>\n",
       "      <th>objeto</th>\n",
       "      <th></th>\n",
       "      <th></th>\n",
       "      <th></th>\n",
       "    </tr>\n",
       "  </thead>\n",
       "  <tbody>\n",
       "    <tr>\n",
       "      <th rowspan=\"5\" valign=\"top\">2022</th>\n",
       "      <th>CACHIMBO</th>\n",
       "      <td>148711.45</td>\n",
       "      <td>1127055.44</td>\n",
       "      <td>7.578807</td>\n",
       "    </tr>\n",
       "    <tr>\n",
       "      <th>CANETA</th>\n",
       "      <td>2675.03</td>\n",
       "      <td>18375.76</td>\n",
       "      <td>6.869366</td>\n",
       "    </tr>\n",
       "    <tr>\n",
       "      <th>MOEDA</th>\n",
       "      <td>199492.37</td>\n",
       "      <td>1162106.76</td>\n",
       "      <td>5.825319</td>\n",
       "    </tr>\n",
       "    <tr>\n",
       "      <th>MOCHILA</th>\n",
       "      <td>1395063.42</td>\n",
       "      <td>6448593.28</td>\n",
       "      <td>4.622437</td>\n",
       "    </tr>\n",
       "    <tr>\n",
       "      <th>CELULAR</th>\n",
       "      <td>17918122.96</td>\n",
       "      <td>69589419.41</td>\n",
       "      <td>3.883745</td>\n",
       "    </tr>\n",
       "  </tbody>\n",
       "</table>\n",
       "</div>"
      ],
      "text/plain": [
       "                       investido      receita  roas_anual\n",
       "data_venda objeto                                        \n",
       "2022       CACHIMBO    148711.45   1127055.44    7.578807\n",
       "           CANETA        2675.03     18375.76    6.869366\n",
       "           MOEDA       199492.37   1162106.76    5.825319\n",
       "           MOCHILA    1395063.42   6448593.28    4.622437\n",
       "           CELULAR   17918122.96  69589419.41    3.883745"
      ]
     },
     "execution_count": 58,
     "metadata": {},
     "output_type": "execute_result"
    }
   ],
   "source": [
    "# Resposta Q4 - \n",
    "\n",
    "dfq4 = pd.DataFrame(dfv4.groupby([dfv4.data_venda.dt.year, dfv4.objeto ])[[\"investido\", \"receita\"]].sum())\n",
    "dfq4[\"roas_anual\"] = dfq4.receita / dfq4.investido\n",
    "dfq4.nlargest(5, \"roas_anual\")"
   ]
  },
  {
   "cell_type": "markdown",
   "id": "90ad0dbc-6f72-4dff-ad8e-9772e077af68",
   "metadata": {},
   "source": [
    "Estes foram os 5 produtos que tiveram o maior roas no ano"
   ]
  },
  {
   "cell_type": "code",
   "execution_count": 59,
   "id": "445ac5a0d4b3e3f",
   "metadata": {
    "collapsed": false,
    "jupyter": {
     "outputs_hidden": false
    }
   },
   "outputs": [],
   "source": [
    "dfq4_b = dfv4.groupby([dfv4.data_venda.dt.year, dfv4.data_venda.dt.month])[[\"investido\",\"receita\", \"cliques\", \"conversao\"]].sum()"
   ]
  },
  {
   "cell_type": "code",
   "execution_count": 60,
   "id": "a727a5a07169dd1",
   "metadata": {
    "collapsed": false,
    "jupyter": {
     "outputs_hidden": false
    }
   },
   "outputs": [
    {
     "data": {
      "text/html": [
       "<div>\n",
       "<style scoped>\n",
       "    .dataframe tbody tr th:only-of-type {\n",
       "        vertical-align: middle;\n",
       "    }\n",
       "\n",
       "    .dataframe tbody tr th {\n",
       "        vertical-align: top;\n",
       "    }\n",
       "\n",
       "    .dataframe thead th {\n",
       "        text-align: right;\n",
       "    }\n",
       "</style>\n",
       "<table border=\"1\" class=\"dataframe\">\n",
       "  <thead>\n",
       "    <tr style=\"text-align: right;\">\n",
       "      <th></th>\n",
       "      <th></th>\n",
       "      <th>investido</th>\n",
       "      <th>receita</th>\n",
       "      <th>cliques</th>\n",
       "      <th>conversao</th>\n",
       "    </tr>\n",
       "    <tr>\n",
       "      <th>data_venda</th>\n",
       "      <th>data_venda</th>\n",
       "      <th></th>\n",
       "      <th></th>\n",
       "      <th></th>\n",
       "      <th></th>\n",
       "    </tr>\n",
       "  </thead>\n",
       "  <tbody>\n",
       "    <tr>\n",
       "      <th rowspan=\"12\" valign=\"top\">2022</th>\n",
       "      <th>1</th>\n",
       "      <td>18690935.74</td>\n",
       "      <td>48286462.74</td>\n",
       "      <td>30112932</td>\n",
       "      <td>1317790</td>\n",
       "    </tr>\n",
       "    <tr>\n",
       "      <th>2</th>\n",
       "      <td>3015305.79</td>\n",
       "      <td>6927514.14</td>\n",
       "      <td>7042701</td>\n",
       "      <td>263286</td>\n",
       "    </tr>\n",
       "    <tr>\n",
       "      <th>3</th>\n",
       "      <td>2638544.44</td>\n",
       "      <td>6486545.34</td>\n",
       "      <td>4876262</td>\n",
       "      <td>274722</td>\n",
       "    </tr>\n",
       "    <tr>\n",
       "      <th>4</th>\n",
       "      <td>2763901.39</td>\n",
       "      <td>6947367.01</td>\n",
       "      <td>4236812</td>\n",
       "      <td>237950</td>\n",
       "    </tr>\n",
       "    <tr>\n",
       "      <th>5</th>\n",
       "      <td>3118395.84</td>\n",
       "      <td>7272418.10</td>\n",
       "      <td>4555148</td>\n",
       "      <td>333950</td>\n",
       "    </tr>\n",
       "    <tr>\n",
       "      <th>6</th>\n",
       "      <td>3605309.18</td>\n",
       "      <td>8453718.75</td>\n",
       "      <td>5811836</td>\n",
       "      <td>218177</td>\n",
       "    </tr>\n",
       "    <tr>\n",
       "      <th>7</th>\n",
       "      <td>3883170.08</td>\n",
       "      <td>11675499.11</td>\n",
       "      <td>12678119</td>\n",
       "      <td>262925</td>\n",
       "    </tr>\n",
       "    <tr>\n",
       "      <th>8</th>\n",
       "      <td>3275748.36</td>\n",
       "      <td>10671569.99</td>\n",
       "      <td>4688341</td>\n",
       "      <td>160257</td>\n",
       "    </tr>\n",
       "    <tr>\n",
       "      <th>9</th>\n",
       "      <td>3314218.34</td>\n",
       "      <td>8066113.25</td>\n",
       "      <td>5295572</td>\n",
       "      <td>218577</td>\n",
       "    </tr>\n",
       "    <tr>\n",
       "      <th>10</th>\n",
       "      <td>3347661.04</td>\n",
       "      <td>8009854.61</td>\n",
       "      <td>5626791</td>\n",
       "      <td>171332</td>\n",
       "    </tr>\n",
       "    <tr>\n",
       "      <th>11</th>\n",
       "      <td>6010715.44</td>\n",
       "      <td>19677420.13</td>\n",
       "      <td>9996193</td>\n",
       "      <td>217443</td>\n",
       "    </tr>\n",
       "    <tr>\n",
       "      <th>12</th>\n",
       "      <td>3155147.31</td>\n",
       "      <td>8794747.26</td>\n",
       "      <td>6790139</td>\n",
       "      <td>208573</td>\n",
       "    </tr>\n",
       "  </tbody>\n",
       "</table>\n",
       "</div>"
      ],
      "text/plain": [
       "                         investido      receita   cliques  conversao\n",
       "data_venda data_venda                                               \n",
       "2022       1           18690935.74  48286462.74  30112932    1317790\n",
       "           2            3015305.79   6927514.14   7042701     263286\n",
       "           3            2638544.44   6486545.34   4876262     274722\n",
       "           4            2763901.39   6947367.01   4236812     237950\n",
       "           5            3118395.84   7272418.10   4555148     333950\n",
       "           6            3605309.18   8453718.75   5811836     218177\n",
       "           7            3883170.08  11675499.11  12678119     262925\n",
       "           8            3275748.36  10671569.99   4688341     160257\n",
       "           9            3314218.34   8066113.25   5295572     218577\n",
       "           10           3347661.04   8009854.61   5626791     171332\n",
       "           11           6010715.44  19677420.13   9996193     217443\n",
       "           12           3155147.31   8794747.26   6790139     208573"
      ]
     },
     "execution_count": 60,
     "metadata": {},
     "output_type": "execute_result"
    }
   ],
   "source": [
    "dfq4_b"
   ]
  },
  {
   "cell_type": "code",
   "execution_count": 69,
   "id": "038497a2-514d-44ea-8f75-dc72bdfe3d71",
   "metadata": {},
   "outputs": [],
   "source": [
    "dfq4_c = pd.DataFrame(dfv4.groupby([dfv4.objeto, dfv4.data_venda.dt.month])[[\"investido\",\"receita\", \"cliques\", \"conversao\"]].sum())"
   ]
  },
  {
   "cell_type": "code",
   "execution_count": 85,
   "id": "244d1843-e8a6-42dc-8f4a-15263696101e",
   "metadata": {},
   "outputs": [
    {
     "name": "stdout",
     "output_type": "stream",
     "text": [
      "Objeto: BICICLETA\n",
      "                      investido  receita  cliques  conversao\n",
      "objeto    data_venda                                        \n",
      "BICICLETA 1            67863.78      0.0   286020          0\n",
      "          2                0.00      0.0        4          0\n",
      "          3             1344.06      0.0     7823          0\n",
      "          4               44.55      0.0      301          0\n",
      "          5             1104.63      0.0     5498          0\n",
      "          6               42.17      0.0      232          0\n",
      "          7             1096.89      0.0     4957          0\n",
      "          10          100560.71      0.0   304620          0\n",
      "          11            8797.90      0.0    11673          0\n",
      "          12            1224.35      0.0     5598          0\n",
      "Objeto: CANERNO\n",
      "                    investido  receita  cliques  conversao\n",
      "objeto  data_venda                                        \n",
      "CANERNO 1            48779.10      0.0    42328          0\n",
      "        6            57623.23      0.0     5723          0\n",
      "Objeto: CARRO\n",
      "                   investido  receita  cliques  conversao\n",
      "objeto data_venda                                        \n",
      "CARRO  1                 0.0      0.0        0          0\n",
      "       2                 0.0      0.0        0          0\n",
      "       3                 0.0      0.0        0          0\n",
      "       4                 0.0      0.0        0          0\n",
      "       5                 0.0      0.0        0          0\n",
      "       6                 0.0      0.0        0          0\n",
      "       7                 0.0      0.0        0          0\n",
      "       8                 0.0      0.0        0          0\n",
      "       9                 0.0      0.0        0          0\n",
      "       10                0.0      0.0        0          0\n",
      "       11                0.0      0.0        0          0\n",
      "       12                0.0      0.0        0          0\n",
      "Objeto: CLIPS\n",
      "                   investido  receita  cliques  conversao\n",
      "objeto data_venda                                        \n",
      "CLIPS  1                 0.0      0.0    23200          0\n",
      "Objeto: MEIA\n",
      "                   investido  receita  cliques  conversao\n",
      "objeto data_venda                                        \n",
      "MEIA   8             3571.43      0.0     3614          0\n",
      "       9             7142.86      0.0     7225          0\n",
      "Objeto: MOUSE\n",
      "                   investido  receita  cliques  conversao\n",
      "objeto data_venda                                        \n",
      "MOUSE  1              271.56      0.0     2556          0\n",
      "       2              133.85      0.0     1333          0\n",
      "       3              121.72      0.0      921          0\n",
      "       4               60.16      0.0      418          0\n",
      "       5               21.58      0.0      206          0\n",
      "       6               22.52      0.0      199          0\n",
      "       7                3.65      0.0       46          0\n",
      "       8               12.04      0.0       74          0\n",
      "       9               24.89      0.0      197          0\n",
      "       10              13.26      0.0      130          0\n",
      "       12              11.76      0.0       71          0\n",
      "Objeto: RÁDIO\n",
      "                   investido  receita  cliques  conversao\n",
      "objeto data_venda                                        \n",
      "RÁDIO  1             2865.03      0.0    57558          0\n",
      "       3                0.00      0.0        0          0\n",
      "       10               0.00      0.0        0          0\n",
      "       11            7437.96      0.0   143340          0\n",
      "       12               0.00      0.0        0          0\n",
      "Objeto: RÉGUA\n",
      "                   investido  receita  cliques  conversao\n",
      "objeto data_venda                                        \n",
      "RÉGUA  1                 0.0      0.0        0          0\n",
      "       3                 0.0      0.0        0          0\n",
      "       5                 0.0      0.0        0          0\n",
      "Objeto: ÓCULOS\n",
      "                   investido  receita  cliques  conversao\n",
      "objeto data_venda                                        \n",
      "ÓCULOS 1             6882.30      0.0    20851          0\n",
      "       2              102.55      0.0      553          0\n",
      "       3                0.00      0.0        0          0\n",
      "       4                0.00      0.0        0          0\n",
      "       5              415.75      0.0     1602          0\n",
      "       6              500.36      0.0     1030          0\n",
      "       7                0.00      0.0        0          0\n",
      "       9              456.31      0.0     1696          0\n",
      "       10            1742.86      0.0     5826          0\n",
      "       11           18824.67      0.0    51493          0\n",
      "       12             920.57      0.0     4560          0\n"
     ]
    }
   ],
   "source": [
    "for objeto, slice_df in dfq4_c.groupby(level='objeto'):\n",
    "    if slice_df.receita.sum() == 0:\n",
    "        print(f'Objeto: {objeto}')\n",
    "        print(slice_df)"
   ]
  },
  {
   "cell_type": "markdown",
   "id": "bb777792-9240-4c88-87fc-f747f8542245",
   "metadata": {},
   "source": [
    "nenhum destes itens tiveram nenhuma conversão durante o ano.\n",
    "\n",
    "Com destaque para:\n",
    "- OCULOS\n",
    "- RADIO\n",
    "- MOUSE\n",
    "- MEIA\n",
    "- CANERNO\n",
    "- BICICLETA\n",
    "\n",
    "Pois estes itens tiveram investimento envolvido e sem nenhuma receita."
   ]
  },
  {
   "cell_type": "code",
   "execution_count": null,
   "id": "3f95f369-43d1-4248-b74b-f01d134844f7",
   "metadata": {},
   "outputs": [],
   "source": []
  }
 ],
 "metadata": {
  "kernelspec": {
   "display_name": "Python 3 (ipykernel)",
   "language": "python",
   "name": "python3"
  },
  "language_info": {
   "codemirror_mode": {
    "name": "ipython",
    "version": 3
   },
   "file_extension": ".py",
   "mimetype": "text/x-python",
   "name": "python",
   "nbconvert_exporter": "python",
   "pygments_lexer": "ipython3",
   "version": "3.11.7"
  }
 },
 "nbformat": 4,
 "nbformat_minor": 5
}
